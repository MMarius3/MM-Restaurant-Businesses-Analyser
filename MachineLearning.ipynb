{
 "cells": [
  {
   "cell_type": "code",
   "execution_count": 1,
   "id": "15a5445f-7b47-48fa-8b18-1bbd31381b56",
   "metadata": {},
   "outputs": [],
   "source": [
    "# Now that we got the data from Top 50 restaurants, we will starting making our machine learning project. \n",
    "# It will predict the number of meals served in any restaurant based on all of the other factors.\n",
    "\n",
    "# assert sys.version_info >= (3, 5)\n",
    "\n",
    "# Scikit-Learn ≥0.20 is required\n",
    "import sklearn\n",
    "# assert sklearn.__version__ >= \"0.20\"\n",
    "\n",
    "# Common imports\n",
    "import numpy as np\n",
    "import os\n",
    "\n",
    "# To plot pretty figures\n",
    "%matplotlib inline\n",
    "import matplotlib as mpl\n",
    "import matplotlib.pyplot as plt\n",
    "mpl.rc('axes', labelsize=14)\n",
    "mpl.rc('xtick', labelsize=12)\n",
    "mpl.rc('ytick', labelsize=12)\n",
    "\n",
    "# Where to save the figures\n",
    "PROJECT_ROOT_DIR = \".\"\n",
    "CHAPTER_ID = \"end_to_end_project\"\n",
    "IMAGES_PATH = os.path.join(PROJECT_ROOT_DIR, \"images\", CHAPTER_ID)\n",
    "os.makedirs(IMAGES_PATH, exist_ok=True)\n",
    "\n",
    "def save_fig(fig_id, tight_layout=True, fig_extension=\"png\", resolution=300):\n",
    "    path = os.path.join(IMAGES_PATH, fig_id + \".\" + fig_extension)\n",
    "    print(\"Saving figure\", fig_id)\n",
    "    if tight_layout:\n",
    "        plt.tight_layout()\n",
    "    plt.savefig(path, format=fig_extension, dpi=resolution)"
   ]
  },
  {
   "cell_type": "code",
   "execution_count": 2,
   "id": "5c49b416-8a9b-4274-9344-4753790c5a57",
   "metadata": {},
   "outputs": [],
   "source": [
    "# We will work with another set of data: top 100 restaurants (50 is way too small for the number of entries for Machine Learning) - Independence100 - businesses from USA.\n",
    "\n",
    "import pandas as pd\n",
    "csv_file = \"Independence100.csv\"\n",
    "\n",
    "def load_restaurants_data():\n",
    "    return pd.read_csv(csv_file)"
   ]
  },
  {
   "cell_type": "code",
   "execution_count": 3,
   "id": "94e2595b-d48e-4485-84aa-5bc9c18f0a83",
   "metadata": {},
   "outputs": [
    {
     "data": {
      "text/html": [
       "<div>\n",
       "<style scoped>\n",
       "    .dataframe tbody tr th:only-of-type {\n",
       "        vertical-align: middle;\n",
       "    }\n",
       "\n",
       "    .dataframe tbody tr th {\n",
       "        vertical-align: top;\n",
       "    }\n",
       "\n",
       "    .dataframe thead th {\n",
       "        text-align: right;\n",
       "    }\n",
       "</style>\n",
       "<table border=\"1\" class=\"dataframe\">\n",
       "  <thead>\n",
       "    <tr style=\"text-align: right;\">\n",
       "      <th></th>\n",
       "      <th>Rank</th>\n",
       "      <th>Restaurant</th>\n",
       "      <th>Sales</th>\n",
       "      <th>Average Check</th>\n",
       "      <th>City</th>\n",
       "      <th>State</th>\n",
       "      <th>Meals Served</th>\n",
       "    </tr>\n",
       "  </thead>\n",
       "  <tbody>\n",
       "    <tr>\n",
       "      <th>0</th>\n",
       "      <td>1</td>\n",
       "      <td>Carmine's (Times Square)</td>\n",
       "      <td>39080335.0</td>\n",
       "      <td>40</td>\n",
       "      <td>New York</td>\n",
       "      <td>N.Y.</td>\n",
       "      <td>469803.0</td>\n",
       "    </tr>\n",
       "    <tr>\n",
       "      <th>1</th>\n",
       "      <td>2</td>\n",
       "      <td>The Boathouse Orlando</td>\n",
       "      <td>35218364.0</td>\n",
       "      <td>43</td>\n",
       "      <td>Orlando</td>\n",
       "      <td>Fla.</td>\n",
       "      <td>820819.0</td>\n",
       "    </tr>\n",
       "    <tr>\n",
       "      <th>2</th>\n",
       "      <td>3</td>\n",
       "      <td>Old Ebbitt Grill</td>\n",
       "      <td>29104017.0</td>\n",
       "      <td>33</td>\n",
       "      <td>Washington</td>\n",
       "      <td>D.C.</td>\n",
       "      <td>892830.0</td>\n",
       "    </tr>\n",
       "    <tr>\n",
       "      <th>3</th>\n",
       "      <td>4</td>\n",
       "      <td>LAVO Italian Restaurant &amp; Nightclub</td>\n",
       "      <td>26916180.0</td>\n",
       "      <td>90</td>\n",
       "      <td>New York</td>\n",
       "      <td>N.Y.</td>\n",
       "      <td>198500.0</td>\n",
       "    </tr>\n",
       "    <tr>\n",
       "      <th>4</th>\n",
       "      <td>5</td>\n",
       "      <td>Bryant Park Grill &amp; Cafe</td>\n",
       "      <td>26900000.0</td>\n",
       "      <td>62</td>\n",
       "      <td>New York</td>\n",
       "      <td>N.Y.</td>\n",
       "      <td>403000.0</td>\n",
       "    </tr>\n",
       "  </tbody>\n",
       "</table>\n",
       "</div>"
      ],
      "text/plain": [
       "   Rank                           Restaurant       Sales  Average Check  \\\n",
       "0     1             Carmine's (Times Square)  39080335.0             40   \n",
       "1     2                The Boathouse Orlando  35218364.0             43   \n",
       "2     3                     Old Ebbitt Grill  29104017.0             33   \n",
       "3     4  LAVO Italian Restaurant & Nightclub  26916180.0             90   \n",
       "4     5             Bryant Park Grill & Cafe  26900000.0             62   \n",
       "\n",
       "         City State  Meals Served  \n",
       "0    New York  N.Y.      469803.0  \n",
       "1    Orlando   Fla.      820819.0  \n",
       "2  Washington  D.C.      892830.0  \n",
       "3    New York  N.Y.      198500.0  \n",
       "4    New York  N.Y.      403000.0  "
      ]
     },
     "execution_count": 3,
     "metadata": {},
     "output_type": "execute_result"
    }
   ],
   "source": [
    "# see some rows\n",
    "restaurants = load_restaurants_data()\n",
    "restaurants.head()"
   ]
  },
  {
   "cell_type": "code",
   "execution_count": 4,
   "id": "3a6f2c55-316d-4cf7-bf16-e588b51af6f3",
   "metadata": {},
   "outputs": [
    {
     "name": "stdout",
     "output_type": "stream",
     "text": [
      "<class 'pandas.core.frame.DataFrame'>\n",
      "RangeIndex: 100 entries, 0 to 99\n",
      "Data columns (total 7 columns):\n",
      " #   Column         Non-Null Count  Dtype  \n",
      "---  ------         --------------  -----  \n",
      " 0   Rank           100 non-null    int64  \n",
      " 1   Restaurant     100 non-null    object \n",
      " 2   Sales          100 non-null    float64\n",
      " 3   Average Check  100 non-null    int64  \n",
      " 4   City           100 non-null    object \n",
      " 5   State          100 non-null    object \n",
      " 6   Meals Served   100 non-null    float64\n",
      "dtypes: float64(2), int64(2), object(3)\n",
      "memory usage: 5.6+ KB\n"
     ]
    }
   ],
   "source": [
    "# Get the info about the dataset.\n",
    "restaurants.info()"
   ]
  },
  {
   "cell_type": "code",
   "execution_count": 5,
   "id": "fc17e284-4fca-4f4a-8aac-4fc03e4efc65",
   "metadata": {},
   "outputs": [
    {
     "data": {
      "text/plain": [
       "N.Y.      21\n",
       "Ill.      18\n",
       "Calif.    12\n",
       "Nev.      11\n",
       "D.C.       9\n",
       "Fla.       9\n",
       "Texas      3\n",
       "Ind.       2\n",
       "Ga.        2\n",
       "Mich.      2\n",
       "N.J.       2\n",
       "Tenn.      2\n",
       "N.C.       1\n",
       "Pa.        1\n",
       "Mass.      1\n",
       "Ore.       1\n",
       "Fla.       1\n",
       "Colo.      1\n",
       "Va.        1\n",
       "Name: State, dtype: int64"
      ]
     },
     "execution_count": 5,
     "metadata": {},
     "output_type": "execute_result"
    }
   ],
   "source": [
    "# See how many restaurants from each state.\n",
    "restaurants[\"State\"].value_counts()"
   ]
  },
  {
   "cell_type": "code",
   "execution_count": 6,
   "id": "c0077f31-93a0-413f-b40d-842acb36fc8f",
   "metadata": {},
   "outputs": [
    {
     "data": {
      "text/html": [
       "<div>\n",
       "<style scoped>\n",
       "    .dataframe tbody tr th:only-of-type {\n",
       "        vertical-align: middle;\n",
       "    }\n",
       "\n",
       "    .dataframe tbody tr th {\n",
       "        vertical-align: top;\n",
       "    }\n",
       "\n",
       "    .dataframe thead th {\n",
       "        text-align: right;\n",
       "    }\n",
       "</style>\n",
       "<table border=\"1\" class=\"dataframe\">\n",
       "  <thead>\n",
       "    <tr style=\"text-align: right;\">\n",
       "      <th></th>\n",
       "      <th>Rank</th>\n",
       "      <th>Sales</th>\n",
       "      <th>Average Check</th>\n",
       "      <th>Meals Served</th>\n",
       "    </tr>\n",
       "  </thead>\n",
       "  <tbody>\n",
       "    <tr>\n",
       "      <th>count</th>\n",
       "      <td>100.000000</td>\n",
       "      <td>1.000000e+02</td>\n",
       "      <td>100.000000</td>\n",
       "      <td>100.000000</td>\n",
       "    </tr>\n",
       "    <tr>\n",
       "      <th>mean</th>\n",
       "      <td>50.500000</td>\n",
       "      <td>1.783343e+07</td>\n",
       "      <td>69.050000</td>\n",
       "      <td>317166.660000</td>\n",
       "    </tr>\n",
       "    <tr>\n",
       "      <th>std</th>\n",
       "      <td>29.011492</td>\n",
       "      <td>5.010408e+06</td>\n",
       "      <td>34.735181</td>\n",
       "      <td>192211.390011</td>\n",
       "    </tr>\n",
       "    <tr>\n",
       "      <th>min</th>\n",
       "      <td>1.000000</td>\n",
       "      <td>1.139168e+07</td>\n",
       "      <td>17.000000</td>\n",
       "      <td>87070.000000</td>\n",
       "    </tr>\n",
       "    <tr>\n",
       "      <th>25%</th>\n",
       "      <td>25.750000</td>\n",
       "      <td>1.409484e+07</td>\n",
       "      <td>39.000000</td>\n",
       "      <td>189492.500000</td>\n",
       "    </tr>\n",
       "    <tr>\n",
       "      <th>50%</th>\n",
       "      <td>50.500000</td>\n",
       "      <td>1.730078e+07</td>\n",
       "      <td>65.500000</td>\n",
       "      <td>257097.000000</td>\n",
       "    </tr>\n",
       "    <tr>\n",
       "      <th>75%</th>\n",
       "      <td>75.250000</td>\n",
       "      <td>1.990392e+07</td>\n",
       "      <td>95.000000</td>\n",
       "      <td>372079.000000</td>\n",
       "    </tr>\n",
       "    <tr>\n",
       "      <th>max</th>\n",
       "      <td>100.000000</td>\n",
       "      <td>3.908034e+07</td>\n",
       "      <td>194.000000</td>\n",
       "      <td>959026.000000</td>\n",
       "    </tr>\n",
       "  </tbody>\n",
       "</table>\n",
       "</div>"
      ],
      "text/plain": [
       "             Rank         Sales  Average Check   Meals Served\n",
       "count  100.000000  1.000000e+02     100.000000     100.000000\n",
       "mean    50.500000  1.783343e+07      69.050000  317166.660000\n",
       "std     29.011492  5.010408e+06      34.735181  192211.390011\n",
       "min      1.000000  1.139168e+07      17.000000   87070.000000\n",
       "25%     25.750000  1.409484e+07      39.000000  189492.500000\n",
       "50%     50.500000  1.730078e+07      65.500000  257097.000000\n",
       "75%     75.250000  1.990392e+07      95.000000  372079.000000\n",
       "max    100.000000  3.908034e+07     194.000000  959026.000000"
      ]
     },
     "execution_count": 6,
     "metadata": {},
     "output_type": "execute_result"
    }
   ],
   "source": [
    "# Get some statistics about the data.\n",
    "restaurants.describe()"
   ]
  },
  {
   "cell_type": "code",
   "execution_count": 7,
   "id": "a1fdf4fd-ac08-4f38-8e56-5b7f70091beb",
   "metadata": {},
   "outputs": [
    {
     "name": "stdout",
     "output_type": "stream",
     "text": [
      "Saving figure attribute_histogram_plots\n"
     ]
    },
    {
     "data": {
      "image/png": "[encoded data removed]",
      "text/plain": [
       "<Figure size 1440x1080 with 4 Axes>"
      ]
     },
     "metadata": {
      "needs_background": "light"
     },
     "output_type": "display_data"
    }
   ],
   "source": [
    "# Visualize data with the help of some histograms - for each attribute.\n",
    "\n",
    "%matplotlib inline\n",
    "import matplotlib.pyplot as plt\n",
    "\n",
    "restaurants.hist(bins=50, figsize=(20,15))\n",
    "save_fig(\"attribute_histogram_plots\")\n",
    "plt.show()"
   ]
  },
  {
   "cell_type": "code",
   "execution_count": 8,
   "id": "157b05b3-a49d-4196-9bc3-c6ecf7232a99",
   "metadata": {},
   "outputs": [],
   "source": [
    "# set the random function to give the same random results every time, so the Machine Learning will not get the data it has to predict.\n",
    "np.random.seed(42)"
   ]
  },
  {
   "cell_type": "code",
   "execution_count": 9,
   "id": "6e840ddd-92dd-4516-b0c3-10920e9f646e",
   "metadata": {},
   "outputs": [],
   "source": [
    "# Split the data into train set and test set. The Machine Learning program will learn on the train set (90 entries) and test its predictions on the test set (10 entries).\n",
    "\n",
    "import numpy as np\n",
    "\n",
    "# For illustration only. Sklearn has train_test_split()\n",
    "def split_train_test(data, test_ratio):\n",
    "    shuffled_indices = np.random.permutation(len(data))\n",
    "    test_set_size = int(len(data) * test_ratio)\n",
    "    test_indices = shuffled_indices[:test_set_size]\n",
    "    train_indices = shuffled_indices[test_set_size:]\n",
    "    return data.iloc[train_indices], data.iloc[test_indices]"
   ]
  },
  {
   "cell_type": "code",
   "execution_count": 10,
   "id": "b7babcfd-ac94-4ab3-acd7-45c7994ad1d8",
   "metadata": {},
   "outputs": [
    {
     "data": {
      "text/plain": [
       "10"
      ]
     },
     "execution_count": 10,
     "metadata": {},
     "output_type": "execute_result"
    }
   ],
   "source": [
    "# Test if the split works.\n",
    "train_set, test_set = split_train_test(restaurants, 0.1)\n",
    "len(test_set)"
   ]
  },
  {
   "cell_type": "code",
   "execution_count": 11,
   "id": "94cbbacc-db16-4ed7-89ad-93da3729a9aa",
   "metadata": {},
   "outputs": [],
   "source": [
    "# Apply a hash function on the ranks, so the test data will remain consistent (will not change over updates).\n",
    "\n",
    "from zlib import crc32\n",
    "\n",
    "def test_set_check(identifier, test_ratio):\n",
    "    return crc32(np.int64(identifier)) & 0xffffffff < test_ratio * 2**32\n",
    "\n",
    "def split_train_test_by_id(data, test_ratio, id_column):\n",
    "    ids = data[id_column]\n",
    "    in_test_set = ids.apply(lambda id_: test_set_check(id_, test_ratio))\n",
    "    return data.loc[~in_test_set], data.loc[in_test_set]"
   ]
  },
  {
   "cell_type": "code",
   "execution_count": 14,
   "id": "767ec6db-22e4-47e0-b9c3-0102c45afeda",
   "metadata": {},
   "outputs": [],
   "source": [
    "# Create the sets\n",
    "train_set, test_set = split_train_test_by_id(restaurants, 0.1, \"Rank\")"
   ]
  },
  {
   "cell_type": "code",
   "execution_count": 17,
   "id": "2416c183-948f-4b1d-b1b9-5f7470e17537",
   "metadata": {},
   "outputs": [
    {
     "data": {
      "text/html": [
       "<div>\n",
       "<style scoped>\n",
       "    .dataframe tbody tr th:only-of-type {\n",
       "        vertical-align: middle;\n",
       "    }\n",
       "\n",
       "    .dataframe tbody tr th {\n",
       "        vertical-align: top;\n",
       "    }\n",
       "\n",
       "    .dataframe thead th {\n",
       "        text-align: right;\n",
       "    }\n",
       "</style>\n",
       "<table border=\"1\" class=\"dataframe\">\n",
       "  <thead>\n",
       "    <tr style=\"text-align: right;\">\n",
       "      <th></th>\n",
       "      <th>Rank</th>\n",
       "      <th>Restaurant</th>\n",
       "      <th>Sales</th>\n",
       "      <th>Average Check</th>\n",
       "      <th>City</th>\n",
       "      <th>State</th>\n",
       "      <th>Meals Served</th>\n",
       "    </tr>\n",
       "  </thead>\n",
       "  <tbody>\n",
       "    <tr>\n",
       "      <th>22</th>\n",
       "      <td>23</td>\n",
       "      <td>St. Elmo Steak House</td>\n",
       "      <td>21422141.0</td>\n",
       "      <td>99</td>\n",
       "      <td>Indianapolis</td>\n",
       "      <td>Ind.</td>\n",
       "      <td>192774.0</td>\n",
       "    </tr>\n",
       "    <tr>\n",
       "      <th>24</th>\n",
       "      <td>25</td>\n",
       "      <td>Mon Ami Gabi</td>\n",
       "      <td>20120210.0</td>\n",
       "      <td>76</td>\n",
       "      <td>Las Vegas</td>\n",
       "      <td>Nev.</td>\n",
       "      <td>319200.0</td>\n",
       "    </tr>\n",
       "    <tr>\n",
       "      <th>29</th>\n",
       "      <td>30</td>\n",
       "      <td>Bob Chinn's Crab House</td>\n",
       "      <td>18687601.0</td>\n",
       "      <td>48</td>\n",
       "      <td>Wheeling</td>\n",
       "      <td>Ill.</td>\n",
       "      <td>625907.0</td>\n",
       "    </tr>\n",
       "    <tr>\n",
       "      <th>34</th>\n",
       "      <td>35</td>\n",
       "      <td>Le Diplomate</td>\n",
       "      <td>18490719.0</td>\n",
       "      <td>38</td>\n",
       "      <td>Washington</td>\n",
       "      <td>D.C.</td>\n",
       "      <td>363609.0</td>\n",
       "    </tr>\n",
       "    <tr>\n",
       "      <th>35</th>\n",
       "      <td>36</td>\n",
       "      <td>Gibsons Bar &amp; Steakhouse</td>\n",
       "      <td>18483056.0</td>\n",
       "      <td>79</td>\n",
       "      <td>Rosemont</td>\n",
       "      <td>Ill.</td>\n",
       "      <td>252419.0</td>\n",
       "    </tr>\n",
       "    <tr>\n",
       "      <th>41</th>\n",
       "      <td>42</td>\n",
       "      <td>Founding Farmers (Washington, D.C.)</td>\n",
       "      <td>17910045.0</td>\n",
       "      <td>33</td>\n",
       "      <td>Washington</td>\n",
       "      <td>D.C.</td>\n",
       "      <td>648096.0</td>\n",
       "    </tr>\n",
       "    <tr>\n",
       "      <th>44</th>\n",
       "      <td>45</td>\n",
       "      <td>Chicago Cut Steakhouse</td>\n",
       "      <td>17743720.0</td>\n",
       "      <td>95</td>\n",
       "      <td>Chicago</td>\n",
       "      <td>Ill.</td>\n",
       "      <td>211000.0</td>\n",
       "    </tr>\n",
       "    <tr>\n",
       "      <th>65</th>\n",
       "      <td>66</td>\n",
       "      <td>Swan</td>\n",
       "      <td>15000000.0</td>\n",
       "      <td>78</td>\n",
       "      <td>Miami</td>\n",
       "      <td>Fla.</td>\n",
       "      <td>225000.0</td>\n",
       "    </tr>\n",
       "    <tr>\n",
       "      <th>68</th>\n",
       "      <td>69</td>\n",
       "      <td>Acme Feed &amp; Seed</td>\n",
       "      <td>14897125.0</td>\n",
       "      <td>22</td>\n",
       "      <td>Nashville</td>\n",
       "      <td>Tenn.</td>\n",
       "      <td>527130.0</td>\n",
       "    </tr>\n",
       "    <tr>\n",
       "      <th>74</th>\n",
       "      <td>75</td>\n",
       "      <td>Beauty &amp; Essex (Las Vegas)</td>\n",
       "      <td>14130500.0</td>\n",
       "      <td>99</td>\n",
       "      <td>Las Vegas</td>\n",
       "      <td>Nev.</td>\n",
       "      <td>150000.0</td>\n",
       "    </tr>\n",
       "  </tbody>\n",
       "</table>\n",
       "</div>"
      ],
      "text/plain": [
       "    Rank                           Restaurant       Sales  Average Check  \\\n",
       "22    23                 St. Elmo Steak House  21422141.0             99   \n",
       "24    25                         Mon Ami Gabi  20120210.0             76   \n",
       "29    30               Bob Chinn's Crab House  18687601.0             48   \n",
       "34    35                         Le Diplomate  18490719.0             38   \n",
       "35    36             Gibsons Bar & Steakhouse  18483056.0             79   \n",
       "41    42  Founding Farmers (Washington, D.C.)  17910045.0             33   \n",
       "44    45               Chicago Cut Steakhouse  17743720.0             95   \n",
       "65    66                                 Swan  15000000.0             78   \n",
       "68    69                     Acme Feed & Seed  14897125.0             22   \n",
       "74    75           Beauty & Essex (Las Vegas)  14130500.0             99   \n",
       "\n",
       "            City  State  Meals Served  \n",
       "22  Indianapolis   Ind.      192774.0  \n",
       "24     Las Vegas   Nev.      319200.0  \n",
       "29      Wheeling   Ill.      625907.0  \n",
       "34    Washington   D.C.      363609.0  \n",
       "35      Rosemont   Ill.      252419.0  \n",
       "41    Washington   D.C.      648096.0  \n",
       "44       Chicago   Ill.      211000.0  \n",
       "65         Miami   Fla.      225000.0  \n",
       "68     Nashville  Tenn.      527130.0  \n",
       "74     Las Vegas   Nev.      150000.0  "
      ]
     },
     "execution_count": 17,
     "metadata": {},
     "output_type": "execute_result"
    }
   ],
   "source": [
    "test_set"
   ]
  },
  {
   "cell_type": "code",
   "execution_count": 18,
   "id": "d25536ad-6606-458a-92a6-b4e94270a4b3",
   "metadata": {},
   "outputs": [
    {
     "data": {
      "text/plain": [
       "<AxesSubplot:>"
      ]
     },
     "execution_count": 18,
     "metadata": {},
     "output_type": "execute_result"
    },
    {
     "data": {
      "image/png": "[encoded data removed]",
      "text/plain": [
       "<Figure size 432x288 with 1 Axes>"
      ]
     },
     "metadata": {
      "needs_background": "light"
     },
     "output_type": "display_data"
    }
   ],
   "source": [
    "restaurants[\"Average Check\"].hist()"
   ]
  },
  {
   "cell_type": "code",
   "execution_count": 19,
   "id": "91529113-febc-43a6-8fe3-90c3bdb8a07b",
   "metadata": {},
   "outputs": [],
   "source": [
    "# Split \"Average Check\" into 5 categories (on intervals).\n",
    "\n",
    "restaurants[\"check_cat\"] = pd.cut(restaurants[\"Average Check\"],\n",
    "                               bins=[0, 50, 100, 150, 200, np.inf],\n",
    "                               labels=[1, 2, 3, 4, 5])"
   ]
  },
  {
   "cell_type": "code",
   "execution_count": 23,
   "id": "190db936-707c-4a3f-aef1-0ca4fa2131c1",
   "metadata": {},
   "outputs": [
    {
     "data": {
      "text/plain": [
       "2    47\n",
       "1    37\n",
       "3    14\n",
       "4     2\n",
       "5     0\n",
       "Name: check_cat, dtype: int64"
      ]
     },
     "execution_count": 23,
     "metadata": {},
     "output_type": "execute_result"
    }
   ],
   "source": [
    "restaurants[\"check_cat\"].value_counts()"
   ]
  },
  {
   "cell_type": "code",
   "execution_count": 24,
   "id": "f7ae5d88-3703-4a59-9106-2a89cf2cab18",
   "metadata": {},
   "outputs": [
    {
     "data": {
      "text/plain": [
       "<AxesSubplot:>"
      ]
     },
     "execution_count": 24,
     "metadata": {},
     "output_type": "execute_result"
    },
    {
     "data": {
      "image/png": "[encoded data removed]",
      "text/plain": [
       "<Figure size 432x288 with 1 Axes>"
      ]
     },
     "metadata": {
      "needs_background": "light"
     },
     "output_type": "display_data"
    }
   ],
   "source": [
    "restaurants[\"check_cat\"].hist()"
   ]
  },
  {
   "cell_type": "code",
   "execution_count": 34,
   "id": "af3f8b6d-1b76-4e56-aeba-4c7704974712",
   "metadata": {},
   "outputs": [],
   "source": [
    "# Let's get the proportions of each category now. We will use 3 decimals (shows with 6 decimals), to not get the value 0 for the 4th category.\n",
    "\n",
    "from sklearn.model_selection import StratifiedShuffleSplit\n",
    "\n",
    "split = StratifiedShuffleSplit(n_splits=1, test_size=0.3, random_state=42)\n",
    "for train_index, test_index in split.split(restaurants, restaurants[\"check_cat\"]):\n",
    "    strat_train_set = restaurants.loc[train_index]\n",
    "    strat_test_set = restaurants.loc[test_index]"
   ]
  },
  {
   "cell_type": "code",
   "execution_count": 37,
   "id": "59f21cec-65a4-48ee-ade1-298891c29657",
   "metadata": {},
   "outputs": [
    {
     "data": {
      "text/plain": [
       "2    0.471429\n",
       "1    0.371429\n",
       "3    0.142857\n",
       "4    0.014286\n",
       "5    0.000000\n",
       "Name: check_cat, dtype: float64"
      ]
     },
     "execution_count": 37,
     "metadata": {},
     "output_type": "execute_result"
    }
   ],
   "source": [
    "strat_test_set[\"check_cat\"].value_counts() / len(strat_test_set)\n",
    "strat_train_set[\"check_cat\"].value_counts() / len(strat_train_set)"
   ]
  },
  {
   "cell_type": "code",
   "execution_count": 38,
   "id": "40122c9a-5158-4445-8414-cf27545287d9",
   "metadata": {},
   "outputs": [
    {
     "data": {
      "text/plain": [
       "2    0.47\n",
       "1    0.37\n",
       "3    0.14\n",
       "4    0.02\n",
       "5    0.00\n",
       "Name: check_cat, dtype: float64"
      ]
     },
     "execution_count": 38,
     "metadata": {},
     "output_type": "execute_result"
    }
   ],
   "source": [
    "restaurants[\"check_cat\"].value_counts() / len(restaurants)\n",
    "\n",
    "# As we can notice, the total dataset, the train set and the test set give almost the same ratios of categories of \"Average Check\"."
   ]
  },
  {
   "cell_type": "code",
   "execution_count": 40,
   "id": "91df3c41-1c19-48ba-a87e-ff6dcc3eb747",
   "metadata": {},
   "outputs": [],
   "source": [
    "# Let's see the exact differences (errors) between the 3 sets (overall, train, test).\n",
    "\n",
    "def income_cat_proportions(data):\n",
    "    return data[\"check_cat\"].value_counts() / len(data)\n",
    "\n",
    "train_set, test_set = split_train_test_by_id(restaurants, 0.1, \"Rank\")\n",
    "\n",
    "compare_props = pd.DataFrame({\n",
    "    \"Overall\": income_cat_proportions(restaurants),\n",
    "    \"Stratified\": income_cat_proportions(strat_test_set),\n",
    "    \"Random\": income_cat_proportions(test_set),\n",
    "}).sort_index()\n",
    "compare_props[\"Rand. %error\"] = 100 * compare_props[\"Random\"] / compare_props[\"Overall\"] - 100\n",
    "compare_props[\"Strat. %error\"] = 100 * compare_props[\"Stratified\"] / compare_props[\"Overall\"] - 100"
   ]
  },
  {
   "cell_type": "code",
   "execution_count": 41,
   "id": "e462b2a6-21d1-4b06-9312-f85ff32ae73a",
   "metadata": {},
   "outputs": [
    {
     "data": {
      "text/html": [
       "<div>\n",
       "<style scoped>\n",
       "    .dataframe tbody tr th:only-of-type {\n",
       "        vertical-align: middle;\n",
       "    }\n",
       "\n",
       "    .dataframe tbody tr th {\n",
       "        vertical-align: top;\n",
       "    }\n",
       "\n",
       "    .dataframe thead th {\n",
       "        text-align: right;\n",
       "    }\n",
       "</style>\n",
       "<table border=\"1\" class=\"dataframe\">\n",
       "  <thead>\n",
       "    <tr style=\"text-align: right;\">\n",
       "      <th></th>\n",
       "      <th>Overall</th>\n",
       "      <th>Stratified</th>\n",
       "      <th>Random</th>\n",
       "      <th>Rand. %error</th>\n",
       "      <th>Strat. %error</th>\n",
       "    </tr>\n",
       "  </thead>\n",
       "  <tbody>\n",
       "    <tr>\n",
       "      <th>1</th>\n",
       "      <td>0.37</td>\n",
       "      <td>0.366667</td>\n",
       "      <td>0.4</td>\n",
       "      <td>8.108108</td>\n",
       "      <td>-0.900901</td>\n",
       "    </tr>\n",
       "    <tr>\n",
       "      <th>2</th>\n",
       "      <td>0.47</td>\n",
       "      <td>0.466667</td>\n",
       "      <td>0.6</td>\n",
       "      <td>27.659574</td>\n",
       "      <td>-0.709220</td>\n",
       "    </tr>\n",
       "    <tr>\n",
       "      <th>3</th>\n",
       "      <td>0.14</td>\n",
       "      <td>0.133333</td>\n",
       "      <td>0.0</td>\n",
       "      <td>-100.000000</td>\n",
       "      <td>-4.761905</td>\n",
       "    </tr>\n",
       "    <tr>\n",
       "      <th>4</th>\n",
       "      <td>0.02</td>\n",
       "      <td>0.033333</td>\n",
       "      <td>0.0</td>\n",
       "      <td>-100.000000</td>\n",
       "      <td>66.666667</td>\n",
       "    </tr>\n",
       "    <tr>\n",
       "      <th>5</th>\n",
       "      <td>0.00</td>\n",
       "      <td>0.000000</td>\n",
       "      <td>0.0</td>\n",
       "      <td>NaN</td>\n",
       "      <td>NaN</td>\n",
       "    </tr>\n",
       "  </tbody>\n",
       "</table>\n",
       "</div>"
      ],
      "text/plain": [
       "   Overall  Stratified  Random  Rand. %error  Strat. %error\n",
       "1     0.37    0.366667     0.4      8.108108      -0.900901\n",
       "2     0.47    0.466667     0.6     27.659574      -0.709220\n",
       "3     0.14    0.133333     0.0   -100.000000      -4.761905\n",
       "4     0.02    0.033333     0.0   -100.000000      66.666667\n",
       "5     0.00    0.000000     0.0           NaN            NaN"
      ]
     },
     "execution_count": 41,
     "metadata": {},
     "output_type": "execute_result"
    }
   ],
   "source": [
    "compare_props"
   ]
  },
  {
   "cell_type": "code",
   "execution_count": 42,
   "id": "6453417f-79c1-468a-8ca2-1c96c0b5bec4",
   "metadata": {},
   "outputs": [],
   "source": [
    "# Moving forward, we will discover and visualize the data into plots to get a better understanding of it.\n",
    "\n",
    "for set_ in (strat_train_set, strat_test_set):\n",
    "    set_.drop(\"check_cat\", axis=1, inplace=True)"
   ]
  },
  {
   "cell_type": "code",
   "execution_count": 43,
   "id": "19b0177f-52cc-43ef-9f0f-4ac882b0ce33",
   "metadata": {},
   "outputs": [],
   "source": [
    "restaurants = strat_train_set.copy()"
   ]
  },
  {
   "cell_type": "code",
   "execution_count": 44,
   "id": "0e1caf5c-11fb-4366-81b0-2880f8d51eeb",
   "metadata": {},
   "outputs": [
    {
     "name": "stdout",
     "output_type": "stream",
     "text": [
      "Saving figure bad_visualization_plot\n"
     ]
    },
    {
     "data": {
      "image/png": "[encoded data removed]",
      "text/plain": [
       "<Figure size 432x288 with 1 Axes>"
      ]
     },
     "metadata": {
      "needs_background": "light"
     },
     "output_type": "display_data"
    }
   ],
   "source": [
    "restaurants.plot(kind=\"scatter\", x='Average Check', y='Meals Served')\n",
    "save_fig(\"bad_visualization_plot\")"
   ]
  },
  {
   "cell_type": "code",
   "execution_count": 53,
   "id": "f61bf5be-f398-4fce-9d6f-dbca3ae33dea",
   "metadata": {},
   "outputs": [
    {
     "name": "stdout",
     "output_type": "stream",
     "text": [
      "Saving figure better_visualization_plot\n"
     ]
    },
    {
     "data": {
      "image/png": "[encoded data removed]",
      "text/plain": [
       "<Figure size 432x288 with 1 Axes>"
      ]
     },
     "metadata": {
      "needs_background": "light"
     },
     "output_type": "display_data"
    }
   ],
   "source": [
    "# Because the dataset is small, we barely can notice a difference, when adding alpha value.\n",
    "\n",
    "restaurants.plot(kind=\"scatter\", x=\"Average Check\", y=\"Meals Served\", alpha=0.7)\n",
    "save_fig(\"better_visualization_plot\")"
   ]
  },
  {
   "cell_type": "code",
   "execution_count": 62,
   "id": "3ccb3dd2-f9ce-4178-9f0b-b6820f0c8327",
   "metadata": {},
   "outputs": [
    {
     "name": "stdout",
     "output_type": "stream",
     "text": [
      "Saving figure housing_prices_scatterplot\n"
     ]
    },
    {
     "data": {
      "image/png": "[encoded data removed]",
      "text/plain": [
       "<Figure size 720x504 with 2 Axes>"
      ]
     },
     "metadata": {
      "needs_background": "light"
     },
     "output_type": "display_data"
    }
   ],
   "source": [
    "# Let's see now a more representative plot. We can notice that the less a restaurant is checked, the more meals it serves, which is pretty common sense.\n",
    "\n",
    "restaurants.plot(kind=\"scatter\", x=\"Average Check\", y=\"Sales\", alpha=0.7,\n",
    "             figsize=(10,7), c=\"Meals Served\", cmap=plt.get_cmap(\"jet\"), \n",
    "             colorbar=True, sharex=False)\n",
    "save_fig(\"housing_prices_scatterplot\")"
   ]
  },
  {
   "cell_type": "code",
   "execution_count": 63,
   "id": "66d6eb42-1e76-4241-8d10-b2055ebc8faf",
   "metadata": {},
   "outputs": [],
   "source": [
    "# Since the data set is rather small, we can easily comute the standard correlation coefficient between every pairs of attributes.\n",
    "\n",
    "corr_matrix = restaurants.corr()"
   ]
  },
  {
   "cell_type": "code",
   "execution_count": 65,
   "id": "6f7261ec-6a32-4790-a9b6-10c523c046a4",
   "metadata": {},
   "outputs": [
    {
     "data": {
      "text/plain": [
       "Meals Served     1.000000\n",
       "Sales            0.309166\n",
       "Rank            -0.238106\n",
       "Average Check   -0.626855\n",
       "Name: Meals Served, dtype: float64"
      ]
     },
     "execution_count": 65,
     "metadata": {},
     "output_type": "execute_result"
    }
   ],
   "source": [
    "# The Meals Served actually is almost inverse proportional with the Average Check (-0.62 is close to -1), as we already noticed in the graph above.\n",
    "\n",
    "corr_matrix[\"Meals Served\"].sort_values(ascending=False)"
   ]
  },
  {
   "cell_type": "code",
   "execution_count": 66,
   "id": "415120bb-1e7f-47dd-a8a6-806a4aa872d0",
   "metadata": {},
   "outputs": [
    {
     "name": "stdout",
     "output_type": "stream",
     "text": [
      "Saving figure scatter_matrix_plot\n"
     ]
    },
    {
     "data": {
      "image/png": "[encoded data removed]",
      "text/plain": [
       "<Figure size 864x576 with 9 Axes>"
      ]
     },
     "metadata": {
      "needs_background": "light"
     },
     "output_type": "display_data"
    }
   ],
   "source": [
    "# from pandas.tools.plotting import scatter_matrix\n",
    "# Now let's use another function to check the correlation between attributes.\n",
    "\n",
    "from pandas.plotting import scatter_matrix\n",
    "\n",
    "attributes = [\"Average Check\", \"Sales\", \"Meals Served\"]\n",
    "scatter_matrix(restaurants[attributes], figsize=(12, 8))\n",
    "save_fig(\"scatter_matrix_plot\")"
   ]
  },
  {
   "cell_type": "code",
   "execution_count": 70,
   "id": "5787c7ea-7c22-46f1-b158-5f48cec8b674",
   "metadata": {},
   "outputs": [
    {
     "name": "stdout",
     "output_type": "stream",
     "text": [
      "Saving figure unit_volume_vs_units_scatterplot\n"
     ]
    },
    {
     "data": {
      "image/png": "[encoded data removed]",
      "text/plain": [
       "<Figure size 432x288 with 1 Axes>"
      ]
     },
     "metadata": {
      "needs_background": "light"
     },
     "output_type": "display_data"
    }
   ],
   "source": [
    "# Because we have used a small dataset, we cannot indentify a strong correlation between 2 attributes. \n",
    "# The best attribute to predict the Meals Served is the Average Check, whilst a downward trend is clearly seen (even though some points are a little dispersed).\n",
    "\n",
    "restaurants.plot(kind=\"scatter\", x=\"Average Check\", y=\"Meals Served\", alpha=0.7)\n",
    "plt.axis([0, 175, 0, 800000])\n",
    "save_fig(\"unit_volume_vs_units_scatterplot\")"
   ]
  },
  {
   "cell_type": "code",
   "execution_count": 74,
   "id": "0f09f220-8257-4945-92df-9e52afeac75e",
   "metadata": {},
   "outputs": [
    {
     "data": {
      "text/plain": [
       "Meals Served       1.000000\n",
       "sales_per_check    0.884990\n",
       "Sales              0.309166\n",
       "Rank              -0.238106\n",
       "Average Check     -0.626855\n",
       "Name: Meals Served, dtype: float64"
      ]
     },
     "execution_count": 74,
     "metadata": {},
     "output_type": "execute_result"
    }
   ],
   "source": [
    "# Next, we will create a new attribute.\n",
    "# We will notice that sales_per_check is much more correlated with the Meals Served (0.88 compared to -0.62). Also, they are direct proportional.\n",
    "\n",
    "restaurants[\"sales_per_check\"] = restaurants[\"Sales\"] / restaurants[\"Average Check\"]\n",
    "\n",
    "corr_matrix = restaurants.corr()\n",
    "corr_matrix[\"Meals Served\"].sort_values(ascending=False)"
   ]
  },
  {
   "cell_type": "code",
   "execution_count": 75,
   "id": "968bbf47-811d-413e-92b7-03f3c6da838c",
   "metadata": {},
   "outputs": [],
   "source": [
    "# In the following section we are going to prepare the data for Machine Learning Algorithms.\n",
    "\n",
    "# Firstly, let's separate the predictors and the labels\n",
    "\n",
    "restaurants = strat_train_set.drop(\"Meals Served\", axis=1) # drop labels for training set\n",
    "restaurants_labels = strat_train_set[\"Meals Served\"].copy()"
   ]
  },
  {
   "cell_type": "code",
   "execution_count": 76,
   "id": "02e8f8f1-0224-49b4-a008-76b16fa92cab",
   "metadata": {},
   "outputs": [
    {
     "data": {
      "text/html": [
       "<div>\n",
       "<style scoped>\n",
       "    .dataframe tbody tr th:only-of-type {\n",
       "        vertical-align: middle;\n",
       "    }\n",
       "\n",
       "    .dataframe tbody tr th {\n",
       "        vertical-align: top;\n",
       "    }\n",
       "\n",
       "    .dataframe thead th {\n",
       "        text-align: right;\n",
       "    }\n",
       "</style>\n",
       "<table border=\"1\" class=\"dataframe\">\n",
       "  <thead>\n",
       "    <tr style=\"text-align: right;\">\n",
       "      <th></th>\n",
       "      <th>Rank</th>\n",
       "      <th>Restaurant</th>\n",
       "      <th>Sales</th>\n",
       "      <th>Average Check</th>\n",
       "      <th>City</th>\n",
       "      <th>State</th>\n",
       "    </tr>\n",
       "  </thead>\n",
       "  <tbody>\n",
       "  </tbody>\n",
       "</table>\n",
       "</div>"
      ],
      "text/plain": [
       "Empty DataFrame\n",
       "Columns: [Rank, Restaurant, Sales, Average Check, City, State]\n",
       "Index: []"
      ]
     },
     "execution_count": 76,
     "metadata": {},
     "output_type": "execute_result"
    }
   ],
   "source": [
    "sample_incomplete_rows = restaurants[restaurants.isnull().any(axis=1)].head()\n",
    "sample_incomplete_rows"
   ]
  },
  {
   "cell_type": "code",
   "execution_count": 86,
   "id": "885fe719-0892-4984-a44d-6075ef9bf1b7",
   "metadata": {},
   "outputs": [],
   "source": [
    "# We will use the median strategy next. For that, we will create a copy of data without the the non-numerical attributes.\n",
    "# For dataset with some missing data, there can be used the Imputer module. But it is not needed in our case.\n",
    "\n",
    "from sklearn.impute import SimpleImputer\n",
    "imputer = SimpleImputer(strategy=\"median\")"
   ]
  },
  {
   "cell_type": "code",
   "execution_count": 87,
   "id": "f05d76d0-e808-40d4-a531-0696a5064ebe",
   "metadata": {},
   "outputs": [],
   "source": [
    "restaurants_num = restaurants.drop(['Restaurant', 'City', 'State'], axis=1)"
   ]
  },
  {
   "cell_type": "code",
   "execution_count": 88,
   "id": "5e6a585d-7748-4875-bb95-bae89e29f79f",
   "metadata": {},
   "outputs": [
    {
     "data": {
      "text/plain": [
       "SimpleImputer(strategy='median')"
      ]
     },
     "execution_count": 88,
     "metadata": {},
     "output_type": "execute_result"
    }
   ],
   "source": [
    "imputer.fit(restaurants_num)"
   ]
  },
  {
   "cell_type": "code",
   "execution_count": 89,
   "id": "f922c7c2-2b32-46ba-97fa-b1019f5f0d33",
   "metadata": {},
   "outputs": [
    {
     "data": {
      "text/plain": [
       "array([4.8500000e+01, 1.7519015e+07, 6.1000000e+01])"
      ]
     },
     "execution_count": 89,
     "metadata": {},
     "output_type": "execute_result"
    }
   ],
   "source": [
    "imputer.statistics_"
   ]
  },
  {
   "cell_type": "code",
   "execution_count": 90,
   "id": "835ff9ca-c085-4ef4-826a-c0427f4f25eb",
   "metadata": {},
   "outputs": [
    {
     "data": {
      "text/plain": [
       "array([4.8500000e+01, 1.7519015e+07, 6.1000000e+01])"
      ]
     },
     "execution_count": 90,
     "metadata": {},
     "output_type": "execute_result"
    }
   ],
   "source": [
    "restaurants_num.median().values"
   ]
  },
  {
   "cell_type": "code",
   "execution_count": 92,
   "id": "c96a69ca-74c6-47bf-8e9f-dea251f1d110",
   "metadata": {},
   "outputs": [],
   "source": [
    "X = imputer.transform(restaurants_num)"
   ]
  },
  {
   "cell_type": "code",
   "execution_count": 93,
   "id": "306e304a-da3d-47a9-9257-b5f2e81bbf8f",
   "metadata": {},
   "outputs": [],
   "source": [
    "restaurants_tr = pd.DataFrame(X, columns = restaurants_num.columns,\n",
    "                          index = restaurants.index)"
   ]
  },
  {
   "cell_type": "code",
   "execution_count": 94,
   "id": "9b886d60-55f3-4019-8197-6b7e938b732b",
   "metadata": {},
   "outputs": [
    {
     "data": {
      "text/html": [
       "<div>\n",
       "<style scoped>\n",
       "    .dataframe tbody tr th:only-of-type {\n",
       "        vertical-align: middle;\n",
       "    }\n",
       "\n",
       "    .dataframe tbody tr th {\n",
       "        vertical-align: top;\n",
       "    }\n",
       "\n",
       "    .dataframe thead th {\n",
       "        text-align: right;\n",
       "    }\n",
       "</style>\n",
       "<table border=\"1\" class=\"dataframe\">\n",
       "  <thead>\n",
       "    <tr style=\"text-align: right;\">\n",
       "      <th></th>\n",
       "      <th>Rank</th>\n",
       "      <th>Sales</th>\n",
       "      <th>Average Check</th>\n",
       "    </tr>\n",
       "  </thead>\n",
       "  <tbody>\n",
       "  </tbody>\n",
       "</table>\n",
       "</div>"
      ],
      "text/plain": [
       "Empty DataFrame\n",
       "Columns: [Rank, Sales, Average Check]\n",
       "Index: []"
      ]
     },
     "execution_count": 94,
     "metadata": {},
     "output_type": "execute_result"
    }
   ],
   "source": [
    "restaurants_tr.loc[sample_incomplete_rows.index.values]"
   ]
  },
  {
   "cell_type": "code",
   "execution_count": 164,
   "id": "56314395-a974-449b-9c69-a3c598895477",
   "metadata": {},
   "outputs": [
    {
     "data": {
      "text/plain": [
       "'median'"
      ]
     },
     "execution_count": 164,
     "metadata": {},
     "output_type": "execute_result"
    }
   ],
   "source": [
    "imputer.strategy"
   ]
  },
  {
   "cell_type": "code",
   "execution_count": 95,
   "id": "e5a5211d-bdc9-4a63-9c63-ac431e5c1beb",
   "metadata": {},
   "outputs": [],
   "source": [
    "restaurants_tr = pd.DataFrame(X, columns = restaurants_num.columns,\n",
    "                          index = restaurants_num.index)"
   ]
  },
  {
   "cell_type": "code",
   "execution_count": 96,
   "id": "b766980d-5e2f-47f9-b65c-70919c9ad0d1",
   "metadata": {},
   "outputs": [
    {
     "data": {
      "text/html": [
       "<div>\n",
       "<style scoped>\n",
       "    .dataframe tbody tr th:only-of-type {\n",
       "        vertical-align: middle;\n",
       "    }\n",
       "\n",
       "    .dataframe tbody tr th {\n",
       "        vertical-align: top;\n",
       "    }\n",
       "\n",
       "    .dataframe thead th {\n",
       "        text-align: right;\n",
       "    }\n",
       "</style>\n",
       "<table border=\"1\" class=\"dataframe\">\n",
       "  <thead>\n",
       "    <tr style=\"text-align: right;\">\n",
       "      <th></th>\n",
       "      <th>Rank</th>\n",
       "      <th>Sales</th>\n",
       "      <th>Average Check</th>\n",
       "    </tr>\n",
       "  </thead>\n",
       "  <tbody>\n",
       "    <tr>\n",
       "      <th>30</th>\n",
       "      <td>31.0</td>\n",
       "      <td>18678000.0</td>\n",
       "      <td>115.0</td>\n",
       "    </tr>\n",
       "    <tr>\n",
       "      <th>69</th>\n",
       "      <td>70.0</td>\n",
       "      <td>14790123.0</td>\n",
       "      <td>80.0</td>\n",
       "    </tr>\n",
       "    <tr>\n",
       "      <th>67</th>\n",
       "      <td>68.0</td>\n",
       "      <td>14972300.0</td>\n",
       "      <td>57.0</td>\n",
       "    </tr>\n",
       "    <tr>\n",
       "      <th>21</th>\n",
       "      <td>22.0</td>\n",
       "      <td>21523650.0</td>\n",
       "      <td>149.0</td>\n",
       "    </tr>\n",
       "    <tr>\n",
       "      <th>27</th>\n",
       "      <td>28.0</td>\n",
       "      <td>19530159.0</td>\n",
       "      <td>55.0</td>\n",
       "    </tr>\n",
       "  </tbody>\n",
       "</table>\n",
       "</div>"
      ],
      "text/plain": [
       "    Rank       Sales  Average Check\n",
       "30  31.0  18678000.0          115.0\n",
       "69  70.0  14790123.0           80.0\n",
       "67  68.0  14972300.0           57.0\n",
       "21  22.0  21523650.0          149.0\n",
       "27  28.0  19530159.0           55.0"
      ]
     },
     "execution_count": 96,
     "metadata": {},
     "output_type": "execute_result"
    }
   ],
   "source": [
    "restaurants_tr.head()"
   ]
  },
  {
   "cell_type": "code",
   "execution_count": 97,
   "id": "95896e6b-c343-4d7a-b4d2-3e2673991d44",
   "metadata": {},
   "outputs": [
    {
     "data": {
      "text/html": [
       "<div>\n",
       "<style scoped>\n",
       "    .dataframe tbody tr th:only-of-type {\n",
       "        vertical-align: middle;\n",
       "    }\n",
       "\n",
       "    .dataframe tbody tr th {\n",
       "        vertical-align: top;\n",
       "    }\n",
       "\n",
       "    .dataframe thead th {\n",
       "        text-align: right;\n",
       "    }\n",
       "</style>\n",
       "<table border=\"1\" class=\"dataframe\">\n",
       "  <thead>\n",
       "    <tr style=\"text-align: right;\">\n",
       "      <th></th>\n",
       "      <th>State</th>\n",
       "    </tr>\n",
       "  </thead>\n",
       "  <tbody>\n",
       "    <tr>\n",
       "      <th>30</th>\n",
       "      <td>N.Y.</td>\n",
       "    </tr>\n",
       "    <tr>\n",
       "      <th>69</th>\n",
       "      <td>Ill.</td>\n",
       "    </tr>\n",
       "    <tr>\n",
       "      <th>67</th>\n",
       "      <td>Ga.</td>\n",
       "    </tr>\n",
       "    <tr>\n",
       "      <th>21</th>\n",
       "      <td>Nev.</td>\n",
       "    </tr>\n",
       "    <tr>\n",
       "      <th>27</th>\n",
       "      <td>Texas</td>\n",
       "    </tr>\n",
       "    <tr>\n",
       "      <th>89</th>\n",
       "      <td>Texas</td>\n",
       "    </tr>\n",
       "    <tr>\n",
       "      <th>9</th>\n",
       "      <td>N.Y.</td>\n",
       "    </tr>\n",
       "    <tr>\n",
       "      <th>86</th>\n",
       "      <td>Calif.</td>\n",
       "    </tr>\n",
       "    <tr>\n",
       "      <th>24</th>\n",
       "      <td>Nev.</td>\n",
       "    </tr>\n",
       "    <tr>\n",
       "      <th>59</th>\n",
       "      <td>Ill.</td>\n",
       "    </tr>\n",
       "  </tbody>\n",
       "</table>\n",
       "</div>"
      ],
      "text/plain": [
       "     State\n",
       "30    N.Y.\n",
       "69    Ill.\n",
       "67     Ga.\n",
       "21    Nev.\n",
       "27   Texas\n",
       "89   Texas\n",
       "9     N.Y.\n",
       "86  Calif.\n",
       "24    Nev.\n",
       "59    Ill."
      ]
     },
     "execution_count": 97,
     "metadata": {},
     "output_type": "execute_result"
    }
   ],
   "source": [
    "# As most Machine Learning Algorithms prefer to work with numbers, we will convert the State attribute to numbers.\n",
    "\n",
    "restaurants_cat = restaurants[[\"State\"]]\n",
    "restaurants_cat.head(10)"
   ]
  },
  {
   "cell_type": "code",
   "execution_count": 98,
   "id": "bca9a932-abfd-41cd-9859-5b906197f073",
   "metadata": {},
   "outputs": [
    {
     "data": {
      "text/plain": [
       "array([[11.],\n",
       "       [ 5.],\n",
       "       [ 4.],\n",
       "       [12.],\n",
       "       [15.],\n",
       "       [15.],\n",
       "       [11.],\n",
       "       [ 0.],\n",
       "       [12.],\n",
       "       [ 5.]])"
      ]
     },
     "execution_count": 98,
     "metadata": {},
     "output_type": "execute_result"
    }
   ],
   "source": [
    "# Get their conversion.\n",
    "\n",
    "from sklearn.preprocessing import OrdinalEncoder\n",
    "\n",
    "ordinal_encoder = OrdinalEncoder()\n",
    "restaurants_cat_encoded = ordinal_encoder.fit_transform(restaurants_cat)\n",
    "restaurants_cat_encoded[:10]"
   ]
  },
  {
   "cell_type": "code",
   "execution_count": 99,
   "id": "67114c87-89d2-45c4-88f4-d4488c3c3df5",
   "metadata": {},
   "outputs": [
    {
     "data": {
      "text/plain": [
       "[array(['Calif.', 'D.C.', 'Fla.', 'Fla. ', 'Ga.', 'Ill.', 'Ind.', 'Mass.',\n",
       "        'Mich.', 'N.C.', 'N.J.', 'N.Y.', 'Nev.', 'Pa.', 'Tenn.', 'Texas'],\n",
       "       dtype=object)]"
      ]
     },
     "execution_count": 99,
     "metadata": {},
     "output_type": "execute_result"
    }
   ],
   "source": [
    "ordinal_encoder.categories_"
   ]
  },
  {
   "cell_type": "code",
   "execution_count": 100,
   "id": "b0b396b8-71b5-4911-baa5-a0d4114cc7d0",
   "metadata": {},
   "outputs": [
    {
     "data": {
      "text/plain": [
       "<70x16 sparse matrix of type '<class 'numpy.float64'>'\n",
       "\twith 70 stored elements in Compressed Sparse Row format>"
      ]
     },
     "execution_count": 100,
     "metadata": {},
     "output_type": "execute_result"
    }
   ],
   "source": [
    "# Convert categorical values into one-hot vectors.\n",
    "\n",
    "from sklearn.preprocessing import OneHotEncoder\n",
    "\n",
    "cat_encoder = OneHotEncoder()\n",
    "restaurants_cat_1hot = cat_encoder.fit_transform(restaurants_cat)\n",
    "restaurants_cat_1hot"
   ]
  },
  {
   "cell_type": "code",
   "execution_count": 103,
   "id": "163710d6-e684-458d-bcb5-c4445e35552b",
   "metadata": {},
   "outputs": [
    {
     "data": {
      "text/plain": [
       "array([[0., 0., 0., ..., 0., 0., 0.],\n",
       "       [0., 0., 0., ..., 0., 0., 0.],\n",
       "       [0., 0., 0., ..., 0., 0., 0.],\n",
       "       ...,\n",
       "       [0., 0., 0., ..., 0., 0., 0.],\n",
       "       [0., 0., 0., ..., 0., 0., 0.],\n",
       "       [1., 0., 0., ..., 0., 0., 0.]])"
      ]
     },
     "execution_count": 103,
     "metadata": {},
     "output_type": "execute_result"
    }
   ],
   "source": [
    "restaurants_cat_1hot.toarray()"
   ]
  },
  {
   "cell_type": "code",
   "execution_count": 104,
   "id": "12cda4ed-0285-463b-82ec-02c2a5802598",
   "metadata": {},
   "outputs": [
    {
     "data": {
      "text/plain": [
       "[array(['Calif.', 'D.C.', 'Fla.', 'Fla. ', 'Ga.', 'Ill.', 'Ind.', 'Mass.',\n",
       "        'Mich.', 'N.C.', 'N.J.', 'N.Y.', 'Nev.', 'Pa.', 'Tenn.', 'Texas'],\n",
       "       dtype=object)]"
      ]
     },
     "execution_count": 104,
     "metadata": {},
     "output_type": "execute_result"
    }
   ],
   "source": [
    "cat_encoder.categories_"
   ]
  },
  {
   "cell_type": "code",
   "execution_count": 135,
   "id": "c5316f81-a083-48d0-bea4-e019f8a840e4",
   "metadata": {},
   "outputs": [],
   "source": [
    "# We will add now the new attribute of combined attributes.\n",
    "\n",
    "from sklearn.base import BaseEstimator, TransformerMixin\n",
    "\n",
    "col_names = \"Sales\", \"Average Check\"\n",
    "sales_ix, checks_ix = [restaurants_num.columns.get_loc(c) for c in col_names] # get the column indices\n",
    "\n",
    "class CombinedAttributesAdder(BaseEstimator, TransformerMixin):\n",
    "    def __init__(self, add_sales_per_check = True): # no *args or **kargs\n",
    "        self.add_sales_per_check = add_sales_per_check\n",
    "    def fit(self, X, y = None):\n",
    "        return self  # nothing else to do\n",
    "    def transform(self, X, y = None):\n",
    "        sales_per_check = X[:, sales_ix] / X[:, checks_ix]\n",
    "        if self.add_sales_per_check:\n",
    "            return np.c_[X, sales_per_check]\n",
    "        else:\n",
    "            return np.c_[X]\n",
    "\n",
    "attr_adder = CombinedAttributesAdder(add_sales_per_check = True)\n",
    "restaurants_extra_attribs = attr_adder.transform(restaurants_num.values)"
   ]
  },
  {
   "cell_type": "code",
   "execution_count": 138,
   "id": "5fa143fd-f126-4b18-8cd2-4e666f3caca3",
   "metadata": {},
   "outputs": [
    {
     "data": {
      "text/html": [
       "<div>\n",
       "<style scoped>\n",
       "    .dataframe tbody tr th:only-of-type {\n",
       "        vertical-align: middle;\n",
       "    }\n",
       "\n",
       "    .dataframe tbody tr th {\n",
       "        vertical-align: top;\n",
       "    }\n",
       "\n",
       "    .dataframe thead th {\n",
       "        text-align: right;\n",
       "    }\n",
       "</style>\n",
       "<table border=\"1\" class=\"dataframe\">\n",
       "  <thead>\n",
       "    <tr style=\"text-align: right;\">\n",
       "      <th></th>\n",
       "      <th>Rank</th>\n",
       "      <th>Sales</th>\n",
       "      <th>Average Check</th>\n",
       "      <th>sales_per_check</th>\n",
       "    </tr>\n",
       "  </thead>\n",
       "  <tbody>\n",
       "    <tr>\n",
       "      <th>30</th>\n",
       "      <td>31.0</td>\n",
       "      <td>18678000.0</td>\n",
       "      <td>115.0</td>\n",
       "      <td>162417.391304</td>\n",
       "    </tr>\n",
       "    <tr>\n",
       "      <th>69</th>\n",
       "      <td>70.0</td>\n",
       "      <td>14790123.0</td>\n",
       "      <td>80.0</td>\n",
       "      <td>184876.537500</td>\n",
       "    </tr>\n",
       "    <tr>\n",
       "      <th>67</th>\n",
       "      <td>68.0</td>\n",
       "      <td>14972300.0</td>\n",
       "      <td>57.0</td>\n",
       "      <td>262671.929825</td>\n",
       "    </tr>\n",
       "    <tr>\n",
       "      <th>21</th>\n",
       "      <td>22.0</td>\n",
       "      <td>21523650.0</td>\n",
       "      <td>149.0</td>\n",
       "      <td>144454.026846</td>\n",
       "    </tr>\n",
       "    <tr>\n",
       "      <th>27</th>\n",
       "      <td>28.0</td>\n",
       "      <td>19530159.0</td>\n",
       "      <td>55.0</td>\n",
       "      <td>355093.800000</td>\n",
       "    </tr>\n",
       "  </tbody>\n",
       "</table>\n",
       "</div>"
      ],
      "text/plain": [
       "    Rank       Sales  Average Check  sales_per_check\n",
       "30  31.0  18678000.0          115.0    162417.391304\n",
       "69  70.0  14790123.0           80.0    184876.537500\n",
       "67  68.0  14972300.0           57.0    262671.929825\n",
       "21  22.0  21523650.0          149.0    144454.026846\n",
       "27  28.0  19530159.0           55.0    355093.800000"
      ]
     },
     "execution_count": 138,
     "metadata": {},
     "output_type": "execute_result"
    }
   ],
   "source": [
    "restaurants_extra_attribs = pd.DataFrame(\n",
    "    restaurants_extra_attribs,\n",
    "    columns = list(restaurants_num.columns)+[\"sales_per_check\"],\n",
    "    index = restaurants_num.index)\n",
    "restaurants_extra_attribs.head()"
   ]
  },
  {
   "cell_type": "code",
   "execution_count": 139,
   "id": "9b0a8758-dfd1-4d2d-8325-0e84d78d685d",
   "metadata": {},
   "outputs": [],
   "source": [
    "# As we can notice, some data is represented by larger values from other data (different ranges). That might be an issue for the Machine Learning algorithms. \n",
    "# We will use some scaler methods to transform the data (map it to different values).\n",
    "\n",
    "from sklearn.pipeline import Pipeline\n",
    "from sklearn.preprocessing import StandardScaler\n",
    "\n",
    "num_pipeline = Pipeline([\n",
    "        ('imputer', SimpleImputer(strategy=\"median\")),\n",
    "        ('attribs_adder', CombinedAttributesAdder()),\n",
    "        ('std_scaler', StandardScaler()),\n",
    "    ])\n",
    "\n",
    "restaurants_num_tr = num_pipeline.fit_transform(restaurants_num)"
   ]
  },
  {
   "cell_type": "code",
   "execution_count": 140,
   "id": "26a69e95-006b-4c39-9659-c95e153a0051",
   "metadata": {},
   "outputs": [
    {
     "data": {
      "text/plain": [
       "array([[-6.22487735e-01,  1.00945958e-01,  1.43142390e+00,\n",
       "        -8.82787127e-01],\n",
       "       [ 6.99995935e-01, -6.27075213e-01,  3.81427326e-01,\n",
       "        -7.72178475e-01],\n",
       "       [ 6.32176260e-01, -5.92961810e-01, -3.08570421e-01,\n",
       "        -3.89045324e-01],\n",
       "       [-9.27676274e-01,  6.33805780e-01,  2.45142057e+00,\n",
       "        -9.71254582e-01],\n",
       "       [-7.24217248e-01,  2.60516282e-01, -3.68570225e-01,\n",
       "         6.61215087e-02],\n",
       "       [ 1.37819269e+00, -1.05493657e+00, -1.29856719e+00,\n",
       "         8.83436261e-01],\n",
       "       [-1.33459433e+00,  1.19132698e+00,  1.19142468e+00,\n",
       "        -5.54967669e-01],\n",
       "       [ 1.27646318e+00, -1.01595137e+00, -6.85712047e-02,\n",
       "        -7.19412599e-01],\n",
       "       [-8.25946761e-01,  3.71005791e-01,  2.61427718e-01,\n",
       "        -3.78862266e-01],\n",
       "       [ 3.60897558e-01, -4.60442036e-01, -2.48570617e-01,\n",
       "        -3.73823586e-01],\n",
       "       [-7.99303317e-02, -1.01013653e-01, -1.14856768e+00,\n",
       "         1.30613008e+00],\n",
       "       [ 9.71274637e-01, -8.02207856e-01, -1.05856797e+00,\n",
       "         4.49624310e-01],\n",
       "       [ 1.61556155e+00, -1.11442291e+00,  8.31425857e-01,\n",
       "        -1.05086191e+00],\n",
       "       [-1.21106563e-02, -1.16081622e-01,  8.31425857e-01,\n",
       "        -7.74473525e-01],\n",
       "       [-1.30068449e+00,  1.14772672e+00,  2.31427816e-01,\n",
       "        -8.91025734e-02],\n",
       "       [ 6.66086097e-01, -6.07038642e-01, -1.35856699e+00,\n",
       "         1.65217121e+00],\n",
       "       [-1.60587303e+00,  3.19819805e+00, -7.28569050e-01,\n",
       "         2.35096116e+00],\n",
       "       [ 1.71729107e+00, -1.26344820e+00, -1.20856748e+00,\n",
       "         3.95203129e-01],\n",
       "       [-5.20758222e-01,  7.15470541e-02, -9.38568364e-01,\n",
       "         8.51041480e-01],\n",
       "       [-1.13113530e+00,  9.06812994e-01,  7.11426248e-01,\n",
       "        -4.38918991e-01],\n",
       "       [ 5.64356584e-01, -5.87774870e-01,  3.21427522e-01,\n",
       "        -7.35580912e-01],\n",
       "       [-3.51209033e-01,  1.46041853e-02, -3.98570127e-01,\n",
       "        -2.12640707e-02],\n",
       "       [ 1.20864350e+00, -9.84004688e-01,  1.41428110e-01,\n",
       "        -8.01393335e-01],\n",
       "       [ 8.69545124e-01, -7.50592368e-01,  9.51425465e-01,\n",
       "        -9.79733770e-01],\n",
       "       [ 1.31037301e+00, -1.04240758e+00, -9.08568462e-01,\n",
       "        -9.26401081e-03],\n",
       "       [-2.49479520e-01, -4.28568158e-02, -1.02856807e+00,\n",
       "         9.90200994e-01],\n",
       "       [-1.63978287e+00,  3.92136821e+00, -8.18568756e-01,\n",
       "         3.12897759e+00],\n",
       "       [-9.61586112e-01,  7.57010970e-01,  1.55142351e+00,\n",
       "        -7.64675312e-01],\n",
       "       [-7.58127086e-01,  3.16569132e-01, -5.78569539e-01,\n",
       "         3.51867038e-01],\n",
       "       [-2.15569682e-01, -5.70235299e-02, -1.35856699e+00,\n",
       "         2.30970232e+00],\n",
       "       [-1.06331562e+00,  8.63301117e-01,  1.22142458e+00,\n",
       "        -6.45291347e-01],\n",
       "       [ 3.26987721e-01, -4.56696952e-01, -7.28569050e-01,\n",
       "         1.15481038e-01],\n",
       "       [ 1.14082383e+00, -9.43557788e-01, -3.68570225e-01,\n",
       "        -5.09656242e-01],\n",
       "       [ 1.91348370e-01, -3.43430090e-01, -1.58570911e-01,\n",
       "        -3.87518344e-01],\n",
       "       [-4.86848384e-01,  6.58768106e-02, -8.78568560e-01,\n",
       "         7.13763568e-01],\n",
       "       [-1.26677465e+00,  1.06006180e+00,  2.03142194e+00,\n",
       "        -8.14435153e-01],\n",
       "       [-1.47023368e+00,  1.36153203e+00,  3.81427326e-01,\n",
       "        -1.18410876e-01],\n",
       "       [ 5.57090191e-02, -1.73418848e-01,  2.61427718e-01,\n",
       "        -5.67265582e-01],\n",
       "       [ 1.51383204e+00, -1.10681196e+00, -8.48568658e-01,\n",
       "        -1.38512427e-01],\n",
       "       [-1.13840169e-01, -9.39107283e-02,  1.55142351e+00,\n",
       "        -9.52739888e-01],\n",
       "       [ 1.24255334e+00, -9.97876289e-01, -3.85713026e-02,\n",
       "        -7.26804674e-01],\n",
       "       [-1.16504514e+00,  9.36111155e-01, -1.02856807e+00,\n",
       "         1.77042428e+00],\n",
       "       [ 1.44601236e+00, -1.09732361e+00, -9.38568364e-01,\n",
       "        -2.90041584e-03],\n",
       "       [ 1.41210253e+00, -1.05628480e+00,  5.01426934e-01,\n",
       "        -9.49921531e-01],\n",
       "       [-1.02940579e+00,  8.16631386e-01,  9.21425563e-01,\n",
       "        -5.51960889e-01],\n",
       "       [ 4.28717234e-01, -5.03510494e-01, -7.28569050e-01,\n",
       "         8.68480018e-02],\n",
       "       [ 5.98266422e-01, -5.91875174e-01,  5.14284035e-02,\n",
       "        -6.13609976e-01],\n",
       "       [ 4.62627071e-01, -5.67873497e-01, -3.98570127e-01,\n",
       "        -3.04957903e-01],\n",
       "       [ 1.07300415e+00, -9.29051582e-01, -6.68569245e-01,\n",
       "        -2.40507464e-01],\n",
       "       [ 7.67815611e-01, -6.98739255e-01, -2.18570715e-01,\n",
       "        -5.00093441e-01],\n",
       "       [-8.93766436e-01,  6.14797797e-01,  9.51425465e-01,\n",
       "        -6.17001712e-01],\n",
       "       [ 8.96188568e-02, -2.01380202e-01,  1.16142478e+00,\n",
       "        -8.89884833e-01],\n",
       "       [ 1.54774188e+00, -1.10868844e+00, -2.48570617e-01,\n",
       "        -6.62793393e-01],\n",
       "       [-1.57196319e+00,  2.05326109e+00, -1.02856807e+00,\n",
       "         2.66077659e+00],\n",
       "       [ 8.01725448e-01, -7.03515922e-01, -1.14856768e+00,\n",
       "         7.59712009e-01],\n",
       "       [-4.52938546e-01,  6.44418819e-02,  3.51427424e-01,\n",
       "        -5.30434734e-01],\n",
       "       [-4.60204940e-02, -1.16076004e-01,  9.81425367e-01,\n",
       "        -8.19882055e-01],\n",
       "       [-8.59856599e-01,  5.08279949e-01,  1.04142517e+00,\n",
       "        -6.75810446e-01],\n",
       "       [-5.54668059e-01,  8.66084685e-02, -3.08570421e-01,\n",
       "        -7.54829928e-02],\n",
       "       [ 2.93077883e-01, -3.88595608e-01, -1.50856650e+00,\n",
       "         2.97095887e+00],\n",
       "       [-3.85118871e-01,  2.04322840e-02,  3.17141822e+00,\n",
       "        -1.16319736e+00],\n",
       "       [ 9.37364799e-01, -7.92201742e-01, -1.32856709e+00,\n",
       "         1.29544378e+00],\n",
       "       [-6.90307410e-01,  2.32239780e-01, -9.68568266e-01,\n",
       "         1.04418484e+00],\n",
       "       [-1.53805335e+00,  1.64357950e+00,  6.81426346e-01,\n",
       "        -2.09795679e-01],\n",
       "       [ 3.94807396e-01, -4.69860920e-01,  8.91425661e-01,\n",
       "        -8.89122808e-01],\n",
       "       [ 1.64947139e+00, -1.14354262e+00, -8.78568560e-01,\n",
       "        -1.23298589e-01],\n",
       "       [-9.95495949e-01,  7.97077745e-01, -8.57140058e-03,\n",
       "        -3.64709639e-02],\n",
       "       [-1.43632384e+00,  1.32849871e+00,  1.07142507e+00,\n",
       "        -4.76147164e-01],\n",
       "       [-1.36850416e+00,  1.20009047e+00,  5.91426640e-01,\n",
       "        -2.93075665e-01],\n",
       "       [ 1.00518447e+00, -8.39797819e-01, -8.48568658e-01,\n",
       "         4.15545289e-02]])"
      ]
     },
     "execution_count": 140,
     "metadata": {},
     "output_type": "execute_result"
    }
   ],
   "source": [
    "restaurants_num_tr"
   ]
  },
  {
   "cell_type": "code",
   "execution_count": 141,
   "id": "90de77cd-13ce-41a1-9843-c532eacceb30",
   "metadata": {},
   "outputs": [],
   "source": [
    "# Now it's time to add the State\n",
    "\n",
    "from sklearn.compose import ColumnTransformer\n",
    "\n",
    "num_attribs = list(restaurants_num)\n",
    "cat_attribs = [\"State\"]\n",
    "\n",
    "full_pipeline = ColumnTransformer([\n",
    "        (\"num\", num_pipeline, num_attribs),\n",
    "        (\"cat\", OneHotEncoder(), cat_attribs),\n",
    "    ])\n",
    "\n",
    "restaurants_prepared = full_pipeline.fit_transform(restaurants)"
   ]
  },
  {
   "cell_type": "code",
   "execution_count": 149,
   "id": "fe9590b5-818a-4f65-92bd-2946ec1dadfd",
   "metadata": {},
   "outputs": [
    {
     "data": {
      "text/plain": [
       "<70x20 sparse matrix of type '<class 'numpy.float64'>'\n",
       "\twith 350 stored elements in Compressed Sparse Row format>"
      ]
     },
     "execution_count": 149,
     "metadata": {},
     "output_type": "execute_result"
    }
   ],
   "source": [
    "restaurants_prepared"
   ]
  },
  {
   "cell_type": "code",
   "execution_count": 150,
   "id": "c249655d-7b69-47e3-b4b1-944994f63b34",
   "metadata": {},
   "outputs": [
    {
     "data": {
      "text/plain": [
       "(70, 20)"
      ]
     },
     "execution_count": 150,
     "metadata": {},
     "output_type": "execute_result"
    }
   ],
   "source": [
    "restaurants_prepared.shape"
   ]
  },
  {
   "cell_type": "code",
   "execution_count": 163,
   "id": "dc446ddb-fe19-41a5-b2e4-1ff9c23fd30e",
   "metadata": {},
   "outputs": [
    {
     "data": {
      "text/plain": [
       "LinearRegression()"
      ]
     },
     "execution_count": 163,
     "metadata": {},
     "output_type": "execute_result"
    }
   ],
   "source": [
    "# IT'S TIME! All of the data is prepared. We are ready to select and train a Machine Learning model.\n",
    "\n",
    "# 1. Train a Linear Regression model.\n",
    "\n",
    "from sklearn.linear_model import LinearRegression\n",
    "\n",
    "lin_reg = LinearRegression()\n",
    "lin_reg.fit(restaurants_prepared, restaurants_labels)"
   ]
  },
  {
   "cell_type": "code",
   "execution_count": 175,
   "id": "8b92105b-5625-4920-a6d6-d44ef2881b3b",
   "metadata": {},
   "outputs": [
    {
     "name": "stdout",
     "output_type": "stream",
     "text": [
      "Predictions: [205471.67993483 190388.64922679 273997.90095296 166598.34167073\n",
      " 409823.52573205 469615.41346409 235836.26513979 185318.16723264\n",
      " 253822.05121639 265236.41483195]\n"
     ]
    }
   ],
   "source": [
    "# let's try the full preprocessing pipeline on a few training instances\n",
    "\n",
    "some_data = restaurants.iloc[:10]\n",
    "some_labels = restaurants_labels.iloc[:10]\n",
    "some_data_prepared = full_pipeline.transform(some_data)\n",
    "\n",
    "print(\"Predictions:\", lin_reg.predict(some_data_prepared))"
   ]
  },
  {
   "cell_type": "code",
   "execution_count": 176,
   "id": "0c911451-1de2-4d91-bf17-5a8863a464b1",
   "metadata": {},
   "outputs": [
    {
     "name": "stdout",
     "output_type": "stream",
     "text": [
      "Labels: [165148.0, 190616.0, 274000.0, 145700.0, 375241.0, 478000.0, 257364.0, 292000.0, 319200.0, 287900.0]\n"
     ]
    }
   ],
   "source": [
    "print(\"Labels:\", list(some_labels))"
   ]
  },
  {
   "cell_type": "code",
   "execution_count": 179,
   "id": "4297b4aa-89dc-4cf4-a06e-b20173875e85",
   "metadata": {},
   "outputs": [],
   "source": [
    "# As we can notice, most of the prediction are quite satisfying:\n",
    "# 205471.67993483 to 165148.0\n",
    "# 190388.64922679 to 190616.0\n",
    "# 273997.90095296 to 274000.0 - the best one\n",
    "# ...\n",
    "# 185318.16723264 to 292000.0\n",
    "# etc"
   ]
  },
  {
   "cell_type": "code",
   "execution_count": 184,
   "id": "60ac8b14-9a43-4cd4-91fc-f071354c79e4",
   "metadata": {},
   "outputs": [
    {
     "data": {
      "text/plain": [
       "71141.61901493507"
      ]
     },
     "execution_count": 184,
     "metadata": {},
     "output_type": "execute_result"
    }
   ],
   "source": [
    "# Below, we are measuring this regression model's RMSE.\n",
    "\n",
    "from sklearn.metrics import mean_squared_error\n",
    "\n",
    "restaurants_predictions = lin_reg.predict(restaurants_prepared)\n",
    "lin_mse = mean_squared_error(restaurants_labels, restaurants_predictions)\n",
    "lin_rmse = np.sqrt(lin_mse)\n",
    "lin_rmse"
   ]
  },
  {
   "cell_type": "code",
   "execution_count": 185,
   "id": "692c69b0-529d-4535-b6c8-e307780c654e",
   "metadata": {},
   "outputs": [
    {
     "data": {
      "text/plain": [
       "0.0"
      ]
     },
     "execution_count": 185,
     "metadata": {},
     "output_type": "execute_result"
    }
   ],
   "source": [
    "# 2. Train a Decesion Tree Regressor model.\n",
    "\n",
    "from sklearn.tree import DecisionTreeRegressor\n",
    "\n",
    "tree_reg = DecisionTreeRegressor()\n",
    "tree_reg.fit(restaurants_prepared, restaurants_labels)\n",
    "\n",
    "restaurants_predictions = tree_reg.predict(restaurants_prepared)\n",
    "tree_mse = mean_squared_error(restaurants_labels, restaurants_predictions)\n",
    "tree_rmse = np.sqrt(tree_mse)\n",
    "tree_rmse\n",
    "\n",
    "# The error is 0. That is not possible, it is more likely that the model has badly overfit the data."
   ]
  },
  {
   "cell_type": "code",
   "execution_count": 187,
   "id": "311300d2-669b-4bd3-97c8-c9d1404b4472",
   "metadata": {},
   "outputs": [],
   "source": [
    "# We will evaluate this last model in another way then. We will use Cross-Validation.\n",
    "\n",
    "from sklearn.model_selection import cross_val_score\n",
    "\n",
    "scores = cross_val_score(tree_reg, restaurants_prepared, restaurants_labels,\n",
    "                         scoring=\"neg_mean_squared_error\", cv=10)\n",
    "tree_rmse_scores = np.sqrt(-scores)"
   ]
  },
  {
   "cell_type": "code",
   "execution_count": 188,
   "id": "aa7944ea-095c-4dcd-b28d-8381a09170cd",
   "metadata": {},
   "outputs": [
    {
     "name": "stdout",
     "output_type": "stream",
     "text": [
      "Scores: [ 52360.70195153  82678.69453234 213279.57710714 180784.58459172\n",
      "  69796.27114272  76469.59835031  76128.48676791  85186.47933295\n",
      " 190349.02748898 103716.18761519]\n",
      "Mean: 113074.96088807758\n",
      "Standard deviation: 55362.79202899218\n"
     ]
    }
   ],
   "source": [
    "def display_scores(scores):\n",
    "    print(\"Scores:\", scores)\n",
    "    print(\"Mean:\", scores.mean())\n",
    "    print(\"Standard deviation:\", scores.std())\n",
    "\n",
    "display_scores(tree_rmse_scores)"
   ]
  },
  {
   "cell_type": "code",
   "execution_count": 189,
   "id": "1246fcc2-4012-4231-b87e-abd8420bcaea",
   "metadata": {},
   "outputs": [
    {
     "name": "stdout",
     "output_type": "stream",
     "text": [
      "Scores: [ 33802.61145134  69196.3678483  156126.088256   193789.82805323\n",
      "  94174.89305691  76051.3876876   66033.69257498  73930.25053857\n",
      "  79770.15936943 110437.88333817]\n",
      "Mean: 95331.31621745465\n",
      "Standard deviation: 44742.22523650312\n"
     ]
    }
   ],
   "source": [
    "lin_scores = cross_val_score(lin_reg, restaurants_prepared, restaurants_labels,\n",
    "                             scoring=\"neg_mean_squared_error\", cv=10)\n",
    "lin_rmse_scores = np.sqrt(-lin_scores)\n",
    "display_scores(lin_rmse_scores)"
   ]
  },
  {
   "cell_type": "code",
   "execution_count": 200,
   "id": "d6a7e722-1d4c-472f-8895-5e05bbb12c50",
   "metadata": {},
   "outputs": [
    {
     "data": {
      "text/plain": [
       "GridSearchCV(cv=5, estimator=RandomForestRegressor(random_state=42),\n",
       "             param_grid=[{'max_features': [2, 4, 6, 8],\n",
       "                          'n_estimators': [3, 10, 30]},\n",
       "                         {'bootstrap': [False], 'max_features': [2, 3, 4],\n",
       "                          'n_estimators': [3, 10]}],\n",
       "             return_train_score=True, scoring='neg_mean_squared_error')"
      ]
     },
     "execution_count": 200,
     "metadata": {},
     "output_type": "execute_result"
    }
   ],
   "source": [
    "# At this point, we have to go through some ways to fine-tune the models we have, assuming that we have some promising models.\n",
    "\n",
    "# 1. Grid Search.\n",
    "\n",
    "from sklearn.model_selection import GridSearchCV\n",
    "\n",
    "param_grid = [\n",
    "    # try 12 (3×4) combinations of hyperparameters\n",
    "    {'n_estimators': [3, 10, 30], 'max_features': [2, 4, 6, 8]},\n",
    "    # then try 6 (2×3) combinations with bootstrap set as False\n",
    "    {'bootstrap': [False], 'n_estimators': [3, 10], 'max_features': [2, 3, 4]},\n",
    "  ]\n",
    "\n",
    "forest_reg = RandomForestRegressor(random_state=42)\n",
    "# train across 5 folds, that's a total of (12+6)*5=90 rounds of training \n",
    "grid_search = GridSearchCV(forest_reg, param_grid, cv=5,\n",
    "                           scoring='neg_mean_squared_error',\n",
    "                           return_train_score=True)\n",
    "grid_search.fit(restaurants_prepared, restaurants_labels)"
   ]
  },
  {
   "cell_type": "code",
   "execution_count": 201,
   "id": "74cc3b62-97f7-45f3-9bf9-8736768e6e37",
   "metadata": {},
   "outputs": [
    {
     "data": {
      "text/plain": [
       "{'max_features': 8, 'n_estimators': 10}"
      ]
     },
     "execution_count": 201,
     "metadata": {},
     "output_type": "execute_result"
    }
   ],
   "source": [
    "grid_search.best_params_"
   ]
  },
  {
   "cell_type": "code",
   "execution_count": 202,
   "id": "db6c6df0-a7ba-412f-a1d8-af61ec17f952",
   "metadata": {},
   "outputs": [
    {
     "data": {
      "text/plain": [
       "RandomForestRegressor(max_features=8, n_estimators=10, random_state=42)"
      ]
     },
     "execution_count": 202,
     "metadata": {},
     "output_type": "execute_result"
    }
   ],
   "source": [
    "grid_search.best_estimator_"
   ]
  },
  {
   "cell_type": "code",
   "execution_count": 203,
   "id": "ed89b479-9857-4ed6-9e82-a8176809f423",
   "metadata": {},
   "outputs": [
    {
     "name": "stdout",
     "output_type": "stream",
     "text": [
      "124878.6243424085 {'max_features': 2, 'n_estimators': 3}\n",
      "104915.30959000556 {'max_features': 2, 'n_estimators': 10}\n",
      "98133.83245850602 {'max_features': 2, 'n_estimators': 30}\n",
      "130691.32594658373 {'max_features': 4, 'n_estimators': 3}\n",
      "106137.90698053909 {'max_features': 4, 'n_estimators': 10}\n",
      "99112.73711524502 {'max_features': 4, 'n_estimators': 30}\n",
      "129528.70860468279 {'max_features': 6, 'n_estimators': 3}\n",
      "99186.97375548651 {'max_features': 6, 'n_estimators': 10}\n",
      "97470.03934006342 {'max_features': 6, 'n_estimators': 30}\n",
      "103446.92622838818 {'max_features': 8, 'n_estimators': 3}\n",
      "91574.77340244185 {'max_features': 8, 'n_estimators': 10}\n",
      "92702.15194773348 {'max_features': 8, 'n_estimators': 30}\n",
      "117709.58859816479 {'bootstrap': False, 'max_features': 2, 'n_estimators': 3}\n",
      "105592.71287208289 {'bootstrap': False, 'max_features': 2, 'n_estimators': 10}\n",
      "117185.89113482686 {'bootstrap': False, 'max_features': 3, 'n_estimators': 3}\n",
      "100330.65008210602 {'bootstrap': False, 'max_features': 3, 'n_estimators': 10}\n",
      "107351.60561984498 {'bootstrap': False, 'max_features': 4, 'n_estimators': 3}\n",
      "97665.54859889144 {'bootstrap': False, 'max_features': 4, 'n_estimators': 10}\n"
     ]
    }
   ],
   "source": [
    "cvres = grid_search.cv_results_\n",
    "for mean_score, params in zip(cvres[\"mean_test_score\"], cvres[\"params\"]):\n",
    "    print(np.sqrt(-mean_score), params)"
   ]
  },
  {
   "cell_type": "code",
   "execution_count": 204,
   "id": "4af81725-c07d-46a6-bb65-fb8d46d59df8",
   "metadata": {},
   "outputs": [
    {
     "data": {
      "text/html": [
       "<div>\n",
       "<style scoped>\n",
       "    .dataframe tbody tr th:only-of-type {\n",
       "        vertical-align: middle;\n",
       "    }\n",
       "\n",
       "    .dataframe tbody tr th {\n",
       "        vertical-align: top;\n",
       "    }\n",
       "\n",
       "    .dataframe thead th {\n",
       "        text-align: right;\n",
       "    }\n",
       "</style>\n",
       "<table border=\"1\" class=\"dataframe\">\n",
       "  <thead>\n",
       "    <tr style=\"text-align: right;\">\n",
       "      <th></th>\n",
       "      <th>mean_fit_time</th>\n",
       "      <th>std_fit_time</th>\n",
       "      <th>mean_score_time</th>\n",
       "      <th>std_score_time</th>\n",
       "      <th>param_max_features</th>\n",
       "      <th>param_n_estimators</th>\n",
       "      <th>param_bootstrap</th>\n",
       "      <th>params</th>\n",
       "      <th>split0_test_score</th>\n",
       "      <th>split1_test_score</th>\n",
       "      <th>...</th>\n",
       "      <th>mean_test_score</th>\n",
       "      <th>std_test_score</th>\n",
       "      <th>rank_test_score</th>\n",
       "      <th>split0_train_score</th>\n",
       "      <th>split1_train_score</th>\n",
       "      <th>split2_train_score</th>\n",
       "      <th>split3_train_score</th>\n",
       "      <th>split4_train_score</th>\n",
       "      <th>mean_train_score</th>\n",
       "      <th>std_train_score</th>\n",
       "    </tr>\n",
       "  </thead>\n",
       "  <tbody>\n",
       "    <tr>\n",
       "      <th>0</th>\n",
       "      <td>0.006995</td>\n",
       "      <td>0.002606</td>\n",
       "      <td>0.001799</td>\n",
       "      <td>3.995181e-04</td>\n",
       "      <td>2</td>\n",
       "      <td>3</td>\n",
       "      <td>NaN</td>\n",
       "      <td>{'max_features': 2, 'n_estimators': 3}</td>\n",
       "      <td>-5.597091e+09</td>\n",
       "      <td>-2.611355e+10</td>\n",
       "      <td>...</td>\n",
       "      <td>-1.559467e+10</td>\n",
       "      <td>9.850264e+09</td>\n",
       "      <td>16</td>\n",
       "      <td>-6.347321e+09</td>\n",
       "      <td>-4.248447e+09</td>\n",
       "      <td>-3.651614e+09</td>\n",
       "      <td>-3.946969e+09</td>\n",
       "      <td>-2.907736e+09</td>\n",
       "      <td>-4.220418e+09</td>\n",
       "      <td>1.152905e+09</td>\n",
       "    </tr>\n",
       "    <tr>\n",
       "      <th>1</th>\n",
       "      <td>0.020986</td>\n",
       "      <td>0.001097</td>\n",
       "      <td>0.002399</td>\n",
       "      <td>4.903300e-04</td>\n",
       "      <td>2</td>\n",
       "      <td>10</td>\n",
       "      <td>NaN</td>\n",
       "      <td>{'max_features': 2, 'n_estimators': 10}</td>\n",
       "      <td>-4.175801e+09</td>\n",
       "      <td>-1.070276e+10</td>\n",
       "      <td>...</td>\n",
       "      <td>-1.100722e+10</td>\n",
       "      <td>5.137973e+09</td>\n",
       "      <td>10</td>\n",
       "      <td>-3.956963e+09</td>\n",
       "      <td>-2.181897e+09</td>\n",
       "      <td>-2.302416e+09</td>\n",
       "      <td>-2.424230e+09</td>\n",
       "      <td>-2.036434e+09</td>\n",
       "      <td>-2.580388e+09</td>\n",
       "      <td>7.001848e+08</td>\n",
       "    </tr>\n",
       "    <tr>\n",
       "      <th>2</th>\n",
       "      <td>0.040176</td>\n",
       "      <td>0.006610</td>\n",
       "      <td>0.004000</td>\n",
       "      <td>1.553237e-03</td>\n",
       "      <td>2</td>\n",
       "      <td>30</td>\n",
       "      <td>NaN</td>\n",
       "      <td>{'max_features': 2, 'n_estimators': 30}</td>\n",
       "      <td>-5.134935e+09</td>\n",
       "      <td>-9.981061e+09</td>\n",
       "      <td>...</td>\n",
       "      <td>-9.630249e+09</td>\n",
       "      <td>3.906076e+09</td>\n",
       "      <td>5</td>\n",
       "      <td>-2.469061e+09</td>\n",
       "      <td>-1.812569e+09</td>\n",
       "      <td>-2.116004e+09</td>\n",
       "      <td>-2.372892e+09</td>\n",
       "      <td>-1.446055e+09</td>\n",
       "      <td>-2.043316e+09</td>\n",
       "      <td>3.755337e+08</td>\n",
       "    </tr>\n",
       "    <tr>\n",
       "      <th>3</th>\n",
       "      <td>0.011192</td>\n",
       "      <td>0.002640</td>\n",
       "      <td>0.001998</td>\n",
       "      <td>1.239777e-06</td>\n",
       "      <td>4</td>\n",
       "      <td>3</td>\n",
       "      <td>NaN</td>\n",
       "      <td>{'max_features': 4, 'n_estimators': 3}</td>\n",
       "      <td>-7.620216e+09</td>\n",
       "      <td>-3.598548e+10</td>\n",
       "      <td>...</td>\n",
       "      <td>-1.708022e+10</td>\n",
       "      <td>1.261891e+10</td>\n",
       "      <td>18</td>\n",
       "      <td>-4.746055e+09</td>\n",
       "      <td>-3.178645e+09</td>\n",
       "      <td>-3.990066e+09</td>\n",
       "      <td>-3.009701e+09</td>\n",
       "      <td>-3.184526e+09</td>\n",
       "      <td>-3.621798e+09</td>\n",
       "      <td>6.575453e+08</td>\n",
       "    </tr>\n",
       "    <tr>\n",
       "      <th>4</th>\n",
       "      <td>0.018589</td>\n",
       "      <td>0.009723</td>\n",
       "      <td>0.001799</td>\n",
       "      <td>7.480225e-04</td>\n",
       "      <td>4</td>\n",
       "      <td>10</td>\n",
       "      <td>NaN</td>\n",
       "      <td>{'max_features': 4, 'n_estimators': 10}</td>\n",
       "      <td>-4.650865e+09</td>\n",
       "      <td>-1.567476e+10</td>\n",
       "      <td>...</td>\n",
       "      <td>-1.126526e+10</td>\n",
       "      <td>5.847423e+09</td>\n",
       "      <td>12</td>\n",
       "      <td>-2.326887e+09</td>\n",
       "      <td>-1.925845e+09</td>\n",
       "      <td>-2.594440e+09</td>\n",
       "      <td>-2.029858e+09</td>\n",
       "      <td>-1.573362e+09</td>\n",
       "      <td>-2.090078e+09</td>\n",
       "      <td>3.487274e+08</td>\n",
       "    </tr>\n",
       "    <tr>\n",
       "      <th>5</th>\n",
       "      <td>0.057368</td>\n",
       "      <td>0.015784</td>\n",
       "      <td>0.004797</td>\n",
       "      <td>1.165144e-03</td>\n",
       "      <td>4</td>\n",
       "      <td>30</td>\n",
       "      <td>NaN</td>\n",
       "      <td>{'max_features': 4, 'n_estimators': 30}</td>\n",
       "      <td>-5.148256e+09</td>\n",
       "      <td>-9.945560e+09</td>\n",
       "      <td>...</td>\n",
       "      <td>-9.823335e+09</td>\n",
       "      <td>4.755583e+09</td>\n",
       "      <td>6</td>\n",
       "      <td>-1.945931e+09</td>\n",
       "      <td>-1.510201e+09</td>\n",
       "      <td>-2.356472e+09</td>\n",
       "      <td>-1.832817e+09</td>\n",
       "      <td>-1.254025e+09</td>\n",
       "      <td>-1.779889e+09</td>\n",
       "      <td>3.773817e+08</td>\n",
       "    </tr>\n",
       "    <tr>\n",
       "      <th>6</th>\n",
       "      <td>0.006996</td>\n",
       "      <td>0.001788</td>\n",
       "      <td>0.001399</td>\n",
       "      <td>4.888506e-04</td>\n",
       "      <td>6</td>\n",
       "      <td>3</td>\n",
       "      <td>NaN</td>\n",
       "      <td>{'max_features': 6, 'n_estimators': 3}</td>\n",
       "      <td>-4.477256e+09</td>\n",
       "      <td>-2.365992e+10</td>\n",
       "      <td>...</td>\n",
       "      <td>-1.677769e+10</td>\n",
       "      <td>1.340115e+10</td>\n",
       "      <td>17</td>\n",
       "      <td>-3.891739e+09</td>\n",
       "      <td>-3.372911e+09</td>\n",
       "      <td>-4.559825e+09</td>\n",
       "      <td>-4.572828e+09</td>\n",
       "      <td>-2.885752e+09</td>\n",
       "      <td>-3.856611e+09</td>\n",
       "      <td>6.610966e+08</td>\n",
       "    </tr>\n",
       "    <tr>\n",
       "      <th>7</th>\n",
       "      <td>0.022387</td>\n",
       "      <td>0.003877</td>\n",
       "      <td>0.002998</td>\n",
       "      <td>3.693565e-07</td>\n",
       "      <td>6</td>\n",
       "      <td>10</td>\n",
       "      <td>NaN</td>\n",
       "      <td>{'max_features': 6, 'n_estimators': 10}</td>\n",
       "      <td>-3.055619e+09</td>\n",
       "      <td>-1.301002e+10</td>\n",
       "      <td>...</td>\n",
       "      <td>-9.838056e+09</td>\n",
       "      <td>6.746896e+09</td>\n",
       "      <td>7</td>\n",
       "      <td>-2.451694e+09</td>\n",
       "      <td>-1.964960e+09</td>\n",
       "      <td>-2.090195e+09</td>\n",
       "      <td>-2.106403e+09</td>\n",
       "      <td>-1.619653e+09</td>\n",
       "      <td>-2.046581e+09</td>\n",
       "      <td>2.677785e+08</td>\n",
       "    </tr>\n",
       "    <tr>\n",
       "      <th>8</th>\n",
       "      <td>0.045974</td>\n",
       "      <td>0.008217</td>\n",
       "      <td>0.004797</td>\n",
       "      <td>7.487743e-04</td>\n",
       "      <td>6</td>\n",
       "      <td>30</td>\n",
       "      <td>NaN</td>\n",
       "      <td>{'max_features': 6, 'n_estimators': 30}</td>\n",
       "      <td>-3.979363e+09</td>\n",
       "      <td>-1.094006e+10</td>\n",
       "      <td>...</td>\n",
       "      <td>-9.500409e+09</td>\n",
       "      <td>6.043123e+09</td>\n",
       "      <td>3</td>\n",
       "      <td>-1.786934e+09</td>\n",
       "      <td>-1.281542e+09</td>\n",
       "      <td>-1.859945e+09</td>\n",
       "      <td>-1.902962e+09</td>\n",
       "      <td>-1.334741e+09</td>\n",
       "      <td>-1.633225e+09</td>\n",
       "      <td>2.685367e+08</td>\n",
       "    </tr>\n",
       "    <tr>\n",
       "      <th>9</th>\n",
       "      <td>0.007196</td>\n",
       "      <td>0.002559</td>\n",
       "      <td>0.001599</td>\n",
       "      <td>4.898820e-04</td>\n",
       "      <td>8</td>\n",
       "      <td>3</td>\n",
       "      <td>NaN</td>\n",
       "      <td>{'max_features': 8, 'n_estimators': 3}</td>\n",
       "      <td>-2.465555e+09</td>\n",
       "      <td>-2.134586e+10</td>\n",
       "      <td>...</td>\n",
       "      <td>-1.070127e+10</td>\n",
       "      <td>7.920541e+09</td>\n",
       "      <td>9</td>\n",
       "      <td>-3.088371e+09</td>\n",
       "      <td>-2.335616e+09</td>\n",
       "      <td>-5.936756e+09</td>\n",
       "      <td>-4.463536e+09</td>\n",
       "      <td>-3.421639e+09</td>\n",
       "      <td>-3.849184e+09</td>\n",
       "      <td>1.248031e+09</td>\n",
       "    </tr>\n",
       "    <tr>\n",
       "      <th>10</th>\n",
       "      <td>0.014990</td>\n",
       "      <td>0.001789</td>\n",
       "      <td>0.001999</td>\n",
       "      <td>9.172146e-07</td>\n",
       "      <td>8</td>\n",
       "      <td>10</td>\n",
       "      <td>NaN</td>\n",
       "      <td>{'max_features': 8, 'n_estimators': 10}</td>\n",
       "      <td>-2.008430e+09</td>\n",
       "      <td>-1.079905e+10</td>\n",
       "      <td>...</td>\n",
       "      <td>-8.385939e+09</td>\n",
       "      <td>6.185078e+09</td>\n",
       "      <td>1</td>\n",
       "      <td>-1.952163e+09</td>\n",
       "      <td>-1.699364e+09</td>\n",
       "      <td>-1.999579e+09</td>\n",
       "      <td>-2.235887e+09</td>\n",
       "      <td>-1.708256e+09</td>\n",
       "      <td>-1.919050e+09</td>\n",
       "      <td>2.003314e+08</td>\n",
       "    </tr>\n",
       "    <tr>\n",
       "      <th>11</th>\n",
       "      <td>0.044976</td>\n",
       "      <td>0.002097</td>\n",
       "      <td>0.004599</td>\n",
       "      <td>8.011950e-04</td>\n",
       "      <td>8</td>\n",
       "      <td>30</td>\n",
       "      <td>NaN</td>\n",
       "      <td>{'max_features': 8, 'n_estimators': 30}</td>\n",
       "      <td>-2.881835e+09</td>\n",
       "      <td>-1.022149e+10</td>\n",
       "      <td>...</td>\n",
       "      <td>-8.593689e+09</td>\n",
       "      <td>6.380454e+09</td>\n",
       "      <td>2</td>\n",
       "      <td>-1.771892e+09</td>\n",
       "      <td>-1.224285e+09</td>\n",
       "      <td>-1.766409e+09</td>\n",
       "      <td>-1.893422e+09</td>\n",
       "      <td>-1.338915e+09</td>\n",
       "      <td>-1.598984e+09</td>\n",
       "      <td>2.655775e+08</td>\n",
       "    </tr>\n",
       "    <tr>\n",
       "      <th>12</th>\n",
       "      <td>0.005598</td>\n",
       "      <td>0.001744</td>\n",
       "      <td>0.001597</td>\n",
       "      <td>7.975234e-04</td>\n",
       "      <td>2</td>\n",
       "      <td>3</td>\n",
       "      <td>False</td>\n",
       "      <td>{'bootstrap': False, 'max_features': 2, 'n_est...</td>\n",
       "      <td>-6.515988e+09</td>\n",
       "      <td>-9.777433e+09</td>\n",
       "      <td>...</td>\n",
       "      <td>-1.385555e+10</td>\n",
       "      <td>8.850287e+09</td>\n",
       "      <td>15</td>\n",
       "      <td>-0.000000e+00</td>\n",
       "      <td>-0.000000e+00</td>\n",
       "      <td>-0.000000e+00</td>\n",
       "      <td>-0.000000e+00</td>\n",
       "      <td>-0.000000e+00</td>\n",
       "      <td>0.000000e+00</td>\n",
       "      <td>0.000000e+00</td>\n",
       "    </tr>\n",
       "    <tr>\n",
       "      <th>13</th>\n",
       "      <td>0.012193</td>\n",
       "      <td>0.002225</td>\n",
       "      <td>0.002400</td>\n",
       "      <td>4.911922e-04</td>\n",
       "      <td>2</td>\n",
       "      <td>10</td>\n",
       "      <td>False</td>\n",
       "      <td>{'bootstrap': False, 'max_features': 2, 'n_est...</td>\n",
       "      <td>-3.239339e+09</td>\n",
       "      <td>-9.112252e+09</td>\n",
       "      <td>...</td>\n",
       "      <td>-1.114982e+10</td>\n",
       "      <td>9.119256e+09</td>\n",
       "      <td>11</td>\n",
       "      <td>-0.000000e+00</td>\n",
       "      <td>-0.000000e+00</td>\n",
       "      <td>-0.000000e+00</td>\n",
       "      <td>-0.000000e+00</td>\n",
       "      <td>-0.000000e+00</td>\n",
       "      <td>0.000000e+00</td>\n",
       "      <td>0.000000e+00</td>\n",
       "    </tr>\n",
       "    <tr>\n",
       "      <th>14</th>\n",
       "      <td>0.006197</td>\n",
       "      <td>0.002568</td>\n",
       "      <td>0.001396</td>\n",
       "      <td>4.856097e-04</td>\n",
       "      <td>3</td>\n",
       "      <td>3</td>\n",
       "      <td>False</td>\n",
       "      <td>{'bootstrap': False, 'max_features': 3, 'n_est...</td>\n",
       "      <td>-9.577989e+09</td>\n",
       "      <td>-1.613742e+10</td>\n",
       "      <td>...</td>\n",
       "      <td>-1.373253e+10</td>\n",
       "      <td>7.472895e+09</td>\n",
       "      <td>14</td>\n",
       "      <td>-0.000000e+00</td>\n",
       "      <td>-0.000000e+00</td>\n",
       "      <td>-0.000000e+00</td>\n",
       "      <td>-0.000000e+00</td>\n",
       "      <td>-0.000000e+00</td>\n",
       "      <td>0.000000e+00</td>\n",
       "      <td>0.000000e+00</td>\n",
       "    </tr>\n",
       "    <tr>\n",
       "      <th>15</th>\n",
       "      <td>0.011194</td>\n",
       "      <td>0.002991</td>\n",
       "      <td>0.001599</td>\n",
       "      <td>4.892980e-04</td>\n",
       "      <td>3</td>\n",
       "      <td>10</td>\n",
       "      <td>False</td>\n",
       "      <td>{'bootstrap': False, 'max_features': 3, 'n_est...</td>\n",
       "      <td>-4.504046e+09</td>\n",
       "      <td>-1.433856e+10</td>\n",
       "      <td>...</td>\n",
       "      <td>-1.006624e+10</td>\n",
       "      <td>5.463694e+09</td>\n",
       "      <td>8</td>\n",
       "      <td>-0.000000e+00</td>\n",
       "      <td>-0.000000e+00</td>\n",
       "      <td>-0.000000e+00</td>\n",
       "      <td>-0.000000e+00</td>\n",
       "      <td>-0.000000e+00</td>\n",
       "      <td>0.000000e+00</td>\n",
       "      <td>0.000000e+00</td>\n",
       "    </tr>\n",
       "    <tr>\n",
       "      <th>16</th>\n",
       "      <td>0.004198</td>\n",
       "      <td>0.000748</td>\n",
       "      <td>0.000999</td>\n",
       "      <td>3.504023e-07</td>\n",
       "      <td>4</td>\n",
       "      <td>3</td>\n",
       "      <td>False</td>\n",
       "      <td>{'bootstrap': False, 'max_features': 4, 'n_est...</td>\n",
       "      <td>-4.805469e+09</td>\n",
       "      <td>-8.340996e+09</td>\n",
       "      <td>...</td>\n",
       "      <td>-1.152437e+10</td>\n",
       "      <td>9.556343e+09</td>\n",
       "      <td>13</td>\n",
       "      <td>-0.000000e+00</td>\n",
       "      <td>-0.000000e+00</td>\n",
       "      <td>-0.000000e+00</td>\n",
       "      <td>-0.000000e+00</td>\n",
       "      <td>-0.000000e+00</td>\n",
       "      <td>0.000000e+00</td>\n",
       "      <td>0.000000e+00</td>\n",
       "    </tr>\n",
       "    <tr>\n",
       "      <th>17</th>\n",
       "      <td>0.011194</td>\n",
       "      <td>0.001166</td>\n",
       "      <td>0.001999</td>\n",
       "      <td>9.122432e-07</td>\n",
       "      <td>4</td>\n",
       "      <td>10</td>\n",
       "      <td>False</td>\n",
       "      <td>{'bootstrap': False, 'max_features': 4, 'n_est...</td>\n",
       "      <td>-3.476373e+09</td>\n",
       "      <td>-9.919301e+09</td>\n",
       "      <td>...</td>\n",
       "      <td>-9.538559e+09</td>\n",
       "      <td>7.058867e+09</td>\n",
       "      <td>4</td>\n",
       "      <td>-0.000000e+00</td>\n",
       "      <td>-0.000000e+00</td>\n",
       "      <td>-0.000000e+00</td>\n",
       "      <td>-0.000000e+00</td>\n",
       "      <td>-0.000000e+00</td>\n",
       "      <td>0.000000e+00</td>\n",
       "      <td>0.000000e+00</td>\n",
       "    </tr>\n",
       "  </tbody>\n",
       "</table>\n",
       "<p>18 rows × 23 columns</p>\n",
       "</div>"
      ],
      "text/plain": [
       "    mean_fit_time  std_fit_time  mean_score_time  std_score_time  \\\n",
       "0        0.006995      0.002606         0.001799    3.995181e-04   \n",
       "1        0.020986      0.001097         0.002399    4.903300e-04   \n",
       "2        0.040176      0.006610         0.004000    1.553237e-03   \n",
       "3        0.011192      0.002640         0.001998    1.239777e-06   \n",
       "4        0.018589      0.009723         0.001799    7.480225e-04   \n",
       "5        0.057368      0.015784         0.004797    1.165144e-03   \n",
       "6        0.006996      0.001788         0.001399    4.888506e-04   \n",
       "7        0.022387      0.003877         0.002998    3.693565e-07   \n",
       "8        0.045974      0.008217         0.004797    7.487743e-04   \n",
       "9        0.007196      0.002559         0.001599    4.898820e-04   \n",
       "10       0.014990      0.001789         0.001999    9.172146e-07   \n",
       "11       0.044976      0.002097         0.004599    8.011950e-04   \n",
       "12       0.005598      0.001744         0.001597    7.975234e-04   \n",
       "13       0.012193      0.002225         0.002400    4.911922e-04   \n",
       "14       0.006197      0.002568         0.001396    4.856097e-04   \n",
       "15       0.011194      0.002991         0.001599    4.892980e-04   \n",
       "16       0.004198      0.000748         0.000999    3.504023e-07   \n",
       "17       0.011194      0.001166         0.001999    9.122432e-07   \n",
       "\n",
       "   param_max_features param_n_estimators param_bootstrap  \\\n",
       "0                   2                  3             NaN   \n",
       "1                   2                 10             NaN   \n",
       "2                   2                 30             NaN   \n",
       "3                   4                  3             NaN   \n",
       "4                   4                 10             NaN   \n",
       "5                   4                 30             NaN   \n",
       "6                   6                  3             NaN   \n",
       "7                   6                 10             NaN   \n",
       "8                   6                 30             NaN   \n",
       "9                   8                  3             NaN   \n",
       "10                  8                 10             NaN   \n",
       "11                  8                 30             NaN   \n",
       "12                  2                  3           False   \n",
       "13                  2                 10           False   \n",
       "14                  3                  3           False   \n",
       "15                  3                 10           False   \n",
       "16                  4                  3           False   \n",
       "17                  4                 10           False   \n",
       "\n",
       "                                               params  split0_test_score  \\\n",
       "0              {'max_features': 2, 'n_estimators': 3}      -5.597091e+09   \n",
       "1             {'max_features': 2, 'n_estimators': 10}      -4.175801e+09   \n",
       "2             {'max_features': 2, 'n_estimators': 30}      -5.134935e+09   \n",
       "3              {'max_features': 4, 'n_estimators': 3}      -7.620216e+09   \n",
       "4             {'max_features': 4, 'n_estimators': 10}      -4.650865e+09   \n",
       "5             {'max_features': 4, 'n_estimators': 30}      -5.148256e+09   \n",
       "6              {'max_features': 6, 'n_estimators': 3}      -4.477256e+09   \n",
       "7             {'max_features': 6, 'n_estimators': 10}      -3.055619e+09   \n",
       "8             {'max_features': 6, 'n_estimators': 30}      -3.979363e+09   \n",
       "9              {'max_features': 8, 'n_estimators': 3}      -2.465555e+09   \n",
       "10            {'max_features': 8, 'n_estimators': 10}      -2.008430e+09   \n",
       "11            {'max_features': 8, 'n_estimators': 30}      -2.881835e+09   \n",
       "12  {'bootstrap': False, 'max_features': 2, 'n_est...      -6.515988e+09   \n",
       "13  {'bootstrap': False, 'max_features': 2, 'n_est...      -3.239339e+09   \n",
       "14  {'bootstrap': False, 'max_features': 3, 'n_est...      -9.577989e+09   \n",
       "15  {'bootstrap': False, 'max_features': 3, 'n_est...      -4.504046e+09   \n",
       "16  {'bootstrap': False, 'max_features': 4, 'n_est...      -4.805469e+09   \n",
       "17  {'bootstrap': False, 'max_features': 4, 'n_est...      -3.476373e+09   \n",
       "\n",
       "    split1_test_score  ...  mean_test_score  std_test_score  rank_test_score  \\\n",
       "0       -2.611355e+10  ...    -1.559467e+10    9.850264e+09               16   \n",
       "1       -1.070276e+10  ...    -1.100722e+10    5.137973e+09               10   \n",
       "2       -9.981061e+09  ...    -9.630249e+09    3.906076e+09                5   \n",
       "3       -3.598548e+10  ...    -1.708022e+10    1.261891e+10               18   \n",
       "4       -1.567476e+10  ...    -1.126526e+10    5.847423e+09               12   \n",
       "5       -9.945560e+09  ...    -9.823335e+09    4.755583e+09                6   \n",
       "6       -2.365992e+10  ...    -1.677769e+10    1.340115e+10               17   \n",
       "7       -1.301002e+10  ...    -9.838056e+09    6.746896e+09                7   \n",
       "8       -1.094006e+10  ...    -9.500409e+09    6.043123e+09                3   \n",
       "9       -2.134586e+10  ...    -1.070127e+10    7.920541e+09                9   \n",
       "10      -1.079905e+10  ...    -8.385939e+09    6.185078e+09                1   \n",
       "11      -1.022149e+10  ...    -8.593689e+09    6.380454e+09                2   \n",
       "12      -9.777433e+09  ...    -1.385555e+10    8.850287e+09               15   \n",
       "13      -9.112252e+09  ...    -1.114982e+10    9.119256e+09               11   \n",
       "14      -1.613742e+10  ...    -1.373253e+10    7.472895e+09               14   \n",
       "15      -1.433856e+10  ...    -1.006624e+10    5.463694e+09                8   \n",
       "16      -8.340996e+09  ...    -1.152437e+10    9.556343e+09               13   \n",
       "17      -9.919301e+09  ...    -9.538559e+09    7.058867e+09                4   \n",
       "\n",
       "    split0_train_score  split1_train_score  split2_train_score  \\\n",
       "0        -6.347321e+09       -4.248447e+09       -3.651614e+09   \n",
       "1        -3.956963e+09       -2.181897e+09       -2.302416e+09   \n",
       "2        -2.469061e+09       -1.812569e+09       -2.116004e+09   \n",
       "3        -4.746055e+09       -3.178645e+09       -3.990066e+09   \n",
       "4        -2.326887e+09       -1.925845e+09       -2.594440e+09   \n",
       "5        -1.945931e+09       -1.510201e+09       -2.356472e+09   \n",
       "6        -3.891739e+09       -3.372911e+09       -4.559825e+09   \n",
       "7        -2.451694e+09       -1.964960e+09       -2.090195e+09   \n",
       "8        -1.786934e+09       -1.281542e+09       -1.859945e+09   \n",
       "9        -3.088371e+09       -2.335616e+09       -5.936756e+09   \n",
       "10       -1.952163e+09       -1.699364e+09       -1.999579e+09   \n",
       "11       -1.771892e+09       -1.224285e+09       -1.766409e+09   \n",
       "12       -0.000000e+00       -0.000000e+00       -0.000000e+00   \n",
       "13       -0.000000e+00       -0.000000e+00       -0.000000e+00   \n",
       "14       -0.000000e+00       -0.000000e+00       -0.000000e+00   \n",
       "15       -0.000000e+00       -0.000000e+00       -0.000000e+00   \n",
       "16       -0.000000e+00       -0.000000e+00       -0.000000e+00   \n",
       "17       -0.000000e+00       -0.000000e+00       -0.000000e+00   \n",
       "\n",
       "    split3_train_score  split4_train_score  mean_train_score  std_train_score  \n",
       "0        -3.946969e+09       -2.907736e+09     -4.220418e+09     1.152905e+09  \n",
       "1        -2.424230e+09       -2.036434e+09     -2.580388e+09     7.001848e+08  \n",
       "2        -2.372892e+09       -1.446055e+09     -2.043316e+09     3.755337e+08  \n",
       "3        -3.009701e+09       -3.184526e+09     -3.621798e+09     6.575453e+08  \n",
       "4        -2.029858e+09       -1.573362e+09     -2.090078e+09     3.487274e+08  \n",
       "5        -1.832817e+09       -1.254025e+09     -1.779889e+09     3.773817e+08  \n",
       "6        -4.572828e+09       -2.885752e+09     -3.856611e+09     6.610966e+08  \n",
       "7        -2.106403e+09       -1.619653e+09     -2.046581e+09     2.677785e+08  \n",
       "8        -1.902962e+09       -1.334741e+09     -1.633225e+09     2.685367e+08  \n",
       "9        -4.463536e+09       -3.421639e+09     -3.849184e+09     1.248031e+09  \n",
       "10       -2.235887e+09       -1.708256e+09     -1.919050e+09     2.003314e+08  \n",
       "11       -1.893422e+09       -1.338915e+09     -1.598984e+09     2.655775e+08  \n",
       "12       -0.000000e+00       -0.000000e+00      0.000000e+00     0.000000e+00  \n",
       "13       -0.000000e+00       -0.000000e+00      0.000000e+00     0.000000e+00  \n",
       "14       -0.000000e+00       -0.000000e+00      0.000000e+00     0.000000e+00  \n",
       "15       -0.000000e+00       -0.000000e+00      0.000000e+00     0.000000e+00  \n",
       "16       -0.000000e+00       -0.000000e+00      0.000000e+00     0.000000e+00  \n",
       "17       -0.000000e+00       -0.000000e+00      0.000000e+00     0.000000e+00  \n",
       "\n",
       "[18 rows x 23 columns]"
      ]
     },
     "execution_count": 204,
     "metadata": {},
     "output_type": "execute_result"
    }
   ],
   "source": [
    "pd.DataFrame(grid_search.cv_results_)"
   ]
  },
  {
   "cell_type": "code",
   "execution_count": 205,
   "id": "828e6482-a769-4cea-8cd9-a832325873da",
   "metadata": {},
   "outputs": [
    {
     "data": {
      "text/plain": [
       "RandomizedSearchCV(cv=5, estimator=RandomForestRegressor(random_state=42),\n",
       "                   param_distributions={'max_features': <scipy.stats._distn_infrastructure.rv_frozen object at 0x0000019F33D3E850>,\n",
       "                                        'n_estimators': <scipy.stats._distn_infrastructure.rv_frozen object at 0x0000019F33D3EC40>},\n",
       "                   random_state=42, scoring='neg_mean_squared_error')"
      ]
     },
     "execution_count": 205,
     "metadata": {},
     "output_type": "execute_result"
    }
   ],
   "source": [
    "# 2. Randomized Search. When exploring more combinations.\n",
    "\n",
    "from sklearn.model_selection import RandomizedSearchCV\n",
    "from scipy.stats import randint\n",
    "\n",
    "param_distribs = {\n",
    "        'n_estimators': randint(low=1, high=200),\n",
    "        'max_features': randint(low=1, high=8),\n",
    "    }\n",
    "\n",
    "forest_reg = RandomForestRegressor(random_state=42)\n",
    "rnd_search = RandomizedSearchCV(forest_reg, param_distributions=param_distribs,\n",
    "                                n_iter=10, cv=5, scoring='neg_mean_squared_error', random_state=42)\n",
    "rnd_search.fit(restaurants_prepared, restaurants_labels)"
   ]
  },
  {
   "cell_type": "code",
   "execution_count": 206,
   "id": "334b9ac8-a723-467d-8015-327975385ed6",
   "metadata": {},
   "outputs": [
    {
     "name": "stdout",
     "output_type": "stream",
     "text": [
      "93506.28085110527 {'max_features': 7, 'n_estimators': 180}\n",
      "100658.88241045864 {'max_features': 5, 'n_estimators': 15}\n",
      "100435.26101738664 {'max_features': 3, 'n_estimators': 72}\n",
      "99031.85810098596 {'max_features': 5, 'n_estimators': 21}\n",
      "91751.72212988582 {'max_features': 7, 'n_estimators': 122}\n",
      "100766.84629545371 {'max_features': 3, 'n_estimators': 75}\n",
      "101272.92741576885 {'max_features': 3, 'n_estimators': 88}\n",
      "93955.63629316237 {'max_features': 5, 'n_estimators': 100}\n",
      "101358.42302964197 {'max_features': 3, 'n_estimators': 150}\n",
      "117701.7988935841 {'max_features': 5, 'n_estimators': 2}\n"
     ]
    }
   ],
   "source": [
    "cvres = rnd_search.cv_results_\n",
    "for mean_score, params in zip(cvres[\"mean_test_score\"], cvres[\"params\"]):\n",
    "    print(np.sqrt(-mean_score), params)"
   ]
  },
  {
   "cell_type": "code",
   "execution_count": 210,
   "id": "5e2926e3-0e8f-4a40-af05-bca73f2773f5",
   "metadata": {},
   "outputs": [
    {
     "data": {
      "text/plain": [
       "array([1.02875860e-01, 3.85565710e-02, 1.14758134e-01, 6.40669565e-01,\n",
       "       4.95266663e-03, 3.35968019e-02, 6.47784283e-03, 3.57003247e-03,\n",
       "       1.18807370e-04, 1.30712242e-03, 3.09771234e-04, 1.88611240e-04,\n",
       "       1.72758262e-03, 8.04250695e-04, 1.91346090e-04, 2.36061565e-02,\n",
       "       3.22172218e-04, 1.37605279e-02, 2.61736444e-03, 9.58881312e-03])"
      ]
     },
     "execution_count": 210,
     "metadata": {},
     "output_type": "execute_result"
    }
   ],
   "source": [
    "# Finally, we will analyze the best models and their errors.\n",
    "\n",
    "feature_importances = grid_search.best_estimator_.feature_importances_\n",
    "feature_importances"
   ]
  },
  {
   "cell_type": "code",
   "execution_count": 211,
   "id": "f396ff4a-2113-4776-a619-83686fa99fa2",
   "metadata": {},
   "outputs": [
    {
     "data": {
      "text/plain": [
       "[(0.6406695653326311, 'sales_per_check'),\n",
       " (0.11475813354112589, 'Average Check'),\n",
       " (0.10287586045033402, 'Rank'),\n",
       " (0.03855657096666559, 'Sales'),\n",
       " (0.03359680190535593, 'D.C.'),\n",
       " (0.023606156527757688, 'N.Y.'),\n",
       " (0.013760527886326953, 'Pa.'),\n",
       " (0.00958881312438068, 'Texas'),\n",
       " (0.0064778428338580695, 'Fla.'),\n",
       " (0.004952666627096056, 'Calif.'),\n",
       " (0.003570032474863229, 'Fla. '),\n",
       " (0.0026173644419077947, 'Tenn.'),\n",
       " (0.0017275826221765029, 'Mich.'),\n",
       " (0.001307122416981745, 'Ill.'),\n",
       " (0.0008042506953302415, 'N.C.'),\n",
       " (0.0003221722183792288, 'Nev.'),\n",
       " (0.0003097712343536301, 'Ind.'),\n",
       " (0.00019134609021231037, 'N.J.'),\n",
       " (0.0001886112399588649, 'Mass.'),\n",
       " (0.00011880737030470606, 'Ga.')]"
      ]
     },
     "execution_count": 211,
     "metadata": {},
     "output_type": "execute_result"
    }
   ],
   "source": [
    "extra_attribs = [\"sales_per_check\"]\n",
    "cat_encoder = full_pipeline.named_transformers_[\"cat\"]\n",
    "cat_one_hot_attribs = list(cat_encoder.categories_[0])\n",
    "attributes = num_attribs + extra_attribs + cat_one_hot_attribs\n",
    "sorted(zip(feature_importances, attributes), reverse=True)"
   ]
  }
 ],
 "metadata": {
  "kernelspec": {
   "display_name": "Python 3 (ipykernel)",
   "language": "python",
   "name": "python3"
  },
  "language_info": {
   "codemirror_mode": {
    "name": "ipython",
    "version": 3
   },
   "file_extension": ".py",
   "mimetype": "text/x-python",
   "name": "python",
   "nbconvert_exporter": "python",
   "pygments_lexer": "ipython3",
   "version": "3.9.6"
  }
 },
 "nbformat": 4,
 "nbformat_minor": 5
}
